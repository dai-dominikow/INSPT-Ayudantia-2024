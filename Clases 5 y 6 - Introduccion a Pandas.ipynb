{
 "cells": [
  {
   "cell_type": "markdown",
   "metadata": {},
   "source": [
    "### Clase 5, Computación III\n",
    "Carrera Física Aplicada, INSPT UTN<br>\n",
    "Daiana Dominikow. 3 de Mayo 2024."
   ]
  },
  {
   "cell_type": "markdown",
   "metadata": {},
   "source": [
    "## Pandas"
   ]
  },
  {
   "cell_type": "markdown",
   "metadata": {},
   "source": [
    "En esta clase vamos a trabajar con Pandas, que es una biblioteca opensource para manipulación y análisis de datos basada en Numpy, ofrece estructuras y operaciones para manejo de tablas numéricas.</br>\n",
    "Un DataFrame es una estructura de datos relacional, es decir, se asemeja a una planilla de cálculo con columnas y filas indexadas.</br>\n",
    "Para trabajar con mucha información, a veces termina siendo conveniente trabajar con una tabla en lugar de varios arreglos como hicimos hasta el momento, ya sea para presentarla prolijamente o exportarla a un archivo de texto."
   ]
  },
  {
   "cell_type": "code",
   "execution_count": 1,
   "metadata": {},
   "outputs": [],
   "source": [
    "import pandas as pd\n",
    "import numpy as np\n",
    "import matplotlib.pyplot as plt"
   ]
  },
  {
   "cell_type": "markdown",
   "metadata": {},
   "source": [
    "Para nuestro ejemplo, supongamos que la posición de una partícula responde a la siguiente ecuación horaria:</br>\n",
    "\n",
    "$x(t)= cos(at) + bt^5 +ct^4$</br>\n",
    "\n",
    "donde</br>\n",
    "$a = 0.2 \\mathrm{s}^{-1}$</br>\n",
    "$b = 0.95 \\times 10^{-8}\\mathrm{m}$</br>\n",
    "$c = -10^{-6} \\mathrm{m}$\n"
   ]
  },
  {
   "cell_type": "code",
   "execution_count": 2,
   "metadata": {},
   "outputs": [
    {
     "data": {
      "text/plain": [
       "[<matplotlib.lines.Line2D at 0x22e6a8a8df0>]"
      ]
     },
     "execution_count": 2,
     "metadata": {},
     "output_type": "execute_result"
    },
    {
     "data": {
      "image/png": "[encoded data removed]",
      "text/plain": [
       "<Figure size 432x288 with 1 Axes>"
      ]
     },
     "metadata": {},
     "output_type": "display_data"
    }
   ],
   "source": [
    "a = 0.2\n",
    "b = 0.95e-8\n",
    "c = -1e-6\n",
    "\n",
    "def x(t):\n",
    "    return np.cos(a*t) + b*t**5 + c*t**4\n",
    "\n",
    "#invento un intervalo de tiempo\n",
    "h = 0.1\n",
    "t = np.arange(0,100,h)\n",
    "\n",
    "plt.xlabel('Tiempo (s)')\n",
    "plt.ylabel('Posición')\n",
    "plt.plot(t,x(t))"
   ]
  },
  {
   "cell_type": "markdown",
   "metadata": {},
   "source": [
    "### Como convierto mis arreglos en un solo dataframe?"
   ]
  },
  {
   "cell_type": "code",
   "execution_count": 3,
   "metadata": {},
   "outputs": [
    {
     "name": "stdout",
     "output_type": "stream",
     "text": [
      "posicion\n",
      "[1.         0.99980001 0.99920011 0.99820053 0.99680168 0.9950041\n",
      " 0.99280851 0.99021576 0.98722688 0.98384304 0.98006559 0.975896\n",
      " 0.97133592 0.96638716 0.96105165 0.9553315  0.94922896 0.94274645\n",
      " 0.93588651 0.92865184]\n"
     ]
    }
   ],
   "source": [
    "#Veamos que al imprimir nuestros arreglos, estos se encuentran en 'linea horizontal'\n",
    "print('posicion')\n",
    "print(x(t)[0:20])"
   ]
  },
  {
   "cell_type": "code",
   "execution_count": 4,
   "metadata": {},
   "outputs": [
    {
     "name": "stdout",
     "output_type": "stream",
     "text": [
      "[[ 1.          0.        ]\n",
      " [ 0.99980001  0.1       ]\n",
      " [ 0.99920011  0.2       ]\n",
      " ...\n",
      " [-4.75977323 99.7       ]\n",
      " [-4.70434068 99.8       ]\n",
      " [-4.64839241 99.9       ]]\n"
     ]
    }
   ],
   "source": [
    "#Nosotros necesitamos pivotearlos para convertirlos en una tabla,  para tal fin, vamos a utilizar la función Transpose.\n",
    "data = np.transpose([x(t),t])\n",
    "print(data)"
   ]
  },
  {
   "cell_type": "code",
   "execution_count": 5,
   "metadata": {},
   "outputs": [
    {
     "name": "stdout",
     "output_type": "stream",
     "text": [
      "     posicion  tiempo\n",
      "0    1.000000     0.0\n",
      "1    0.999800     0.1\n",
      "2    0.999200     0.2\n",
      "3    0.998201     0.3\n",
      "4    0.996802     0.4\n",
      "..        ...     ...\n",
      "995 -4.869133    99.5\n",
      "996 -4.814700    99.6\n",
      "997 -4.759773    99.7\n",
      "998 -4.704341    99.8\n",
      "999 -4.648392    99.9\n",
      "\n",
      "[1000 rows x 2 columns]\n"
     ]
    }
   ],
   "source": [
    "#y le damos nombres a las columnas de nuestro futuro dataframe dentro de una lista\n",
    "columns = ['posicion','tiempo']\n",
    "# para crear nuestro dataframe, al cual le pasaremos como parámetros  el arreglo transpuesto y el nombre de las columnas usamos la función DataFrame\n",
    "df = pd.DataFrame(data, columns = columns)\n",
    "\n",
    "print(df)"
   ]
  },
  {
   "cell_type": "markdown",
   "metadata": {},
   "source": [
    "Otra manera de hacer lo mismo"
   ]
  },
  {
   "cell_type": "code",
   "execution_count": 6,
   "metadata": {},
   "outputs": [
    {
     "name": "stdout",
     "output_type": "stream",
     "text": [
      "     posicion  tiempo\n",
      "0    1.000000     0.0\n",
      "1    0.999800     0.1\n",
      "2    0.999200     0.2\n",
      "3    0.998201     0.3\n",
      "4    0.996802     0.4\n",
      "..        ...     ...\n",
      "995 -4.869133    99.5\n",
      "996 -4.814700    99.6\n",
      "997 -4.759773    99.7\n",
      "998 -4.704341    99.8\n",
      "999 -4.648392    99.9\n",
      "\n",
      "[1000 rows x 2 columns]\n"
     ]
    }
   ],
   "source": [
    "# y si se dan un poco de maña, podemos omitir todo lo anterior y hacer lo mismo rápidamente de la siguiente manera \n",
    "df_2 =  pd.DataFrame({\n",
    "        'posicion': x(t) ,\n",
    "        'tiempo': t\n",
    "        })\n",
    "print(df_2)\n"
   ]
  },
  {
   "cell_type": "code",
   "execution_count": 7,
   "metadata": {},
   "outputs": [
    {
     "data": {
      "text/html": [
       "<div>\n",
       "<style scoped>\n",
       "    .dataframe tbody tr th:only-of-type {\n",
       "        vertical-align: middle;\n",
       "    }\n",
       "\n",
       "    .dataframe tbody tr th {\n",
       "        vertical-align: top;\n",
       "    }\n",
       "\n",
       "    .dataframe thead th {\n",
       "        text-align: right;\n",
       "    }\n",
       "</style>\n",
       "<table border=\"1\" class=\"dataframe\">\n",
       "  <thead>\n",
       "    <tr style=\"text-align: right;\">\n",
       "      <th></th>\n",
       "      <th>posicion</th>\n",
       "      <th>tiempo</th>\n",
       "    </tr>\n",
       "  </thead>\n",
       "  <tbody>\n",
       "    <tr>\n",
       "      <th>count</th>\n",
       "      <td>1000.000000</td>\n",
       "      <td>1000.000000</td>\n",
       "    </tr>\n",
       "    <tr>\n",
       "      <th>mean</th>\n",
       "      <td>-4.118219</td>\n",
       "      <td>49.950000</td>\n",
       "    </tr>\n",
       "    <tr>\n",
       "      <th>std</th>\n",
       "      <td>3.826838</td>\n",
       "      <td>28.881944</td>\n",
       "    </tr>\n",
       "    <tr>\n",
       "      <th>min</th>\n",
       "      <td>-10.805177</td>\n",
       "      <td>0.000000</td>\n",
       "    </tr>\n",
       "    <tr>\n",
       "      <th>25%</th>\n",
       "      <td>-7.404655</td>\n",
       "      <td>24.975000</td>\n",
       "    </tr>\n",
       "    <tr>\n",
       "      <th>50%</th>\n",
       "      <td>-4.115537</td>\n",
       "      <td>49.950000</td>\n",
       "    </tr>\n",
       "    <tr>\n",
       "      <th>75%</th>\n",
       "      <td>-0.531076</td>\n",
       "      <td>74.925000</td>\n",
       "    </tr>\n",
       "    <tr>\n",
       "      <th>max</th>\n",
       "      <td>1.000000</td>\n",
       "      <td>99.900000</td>\n",
       "    </tr>\n",
       "  </tbody>\n",
       "</table>\n",
       "</div>"
      ],
      "text/plain": [
       "          posicion       tiempo\n",
       "count  1000.000000  1000.000000\n",
       "mean     -4.118219    49.950000\n",
       "std       3.826838    28.881944\n",
       "min     -10.805177     0.000000\n",
       "25%      -7.404655    24.975000\n",
       "50%      -4.115537    49.950000\n",
       "75%      -0.531076    74.925000\n",
       "max       1.000000    99.900000"
      ]
     },
     "execution_count": 7,
     "metadata": {},
     "output_type": "execute_result"
    }
   ],
   "source": [
    "#para ver aproximadamente como se distribuyen los valores numérivos dentro de un DataFrame (omite otros tipos de dato), podemos llamar a la función\n",
    "df.describe()"
   ]
  },
  {
   "cell_type": "markdown",
   "metadata": {},
   "source": [
    "Ahora bien... Cómo ploteo la info en un DataFrame?"
   ]
  },
  {
   "cell_type": "code",
   "execution_count": 8,
   "metadata": {},
   "outputs": [
    {
     "name": "stdout",
     "output_type": "stream",
     "text": [
      "0      1.000000\n",
      "1      0.999800\n",
      "2      0.999200\n",
      "3      0.998201\n",
      "4      0.996802\n",
      "         ...   \n",
      "995   -4.869133\n",
      "996   -4.814700\n",
      "997   -4.759773\n",
      "998   -4.704341\n",
      "999   -4.648392\n",
      "Name: posicion, Length: 1000, dtype: float64\n"
     ]
    }
   ],
   "source": [
    "# para traerme solo una columna del dataframe, basta con castear el nombre de la columna entre corchetes\n",
    "print(df['posicion'])"
   ]
  },
  {
   "cell_type": "code",
   "execution_count": 9,
   "metadata": {},
   "outputs": [
    {
     "data": {
      "text/plain": [
       "[<matplotlib.lines.Line2D at 0x22e6aa099a0>]"
      ]
     },
     "execution_count": 9,
     "metadata": {},
     "output_type": "execute_result"
    },
    {
     "data": {
      "image/png": "[encoded data removed]",
      "text/plain": [
       "<Figure size 432x288 with 1 Axes>"
      ]
     },
     "metadata": {},
     "output_type": "display_data"
    }
   ],
   "source": [
    "# para plotear el gráfico que obtuvimos inicialmente entonces:\n",
    "plt.plot(df['tiempo'],df['posicion'])"
   ]
  },
  {
   "cell_type": "markdown",
   "metadata": {},
   "source": [
    "Como obtengo los valores dado un índice?"
   ]
  },
  {
   "cell_type": "code",
   "execution_count": 10,
   "metadata": {},
   "outputs": [
    {
     "data": {
      "text/plain": [
       "0.9982005318582892"
      ]
     },
     "execution_count": 10,
     "metadata": {},
     "output_type": "execute_result"
    }
   ],
   "source": [
    "#de manera similar a numpy, si quiero obtener el valor en un índice dado, por ejemplo, el valor de la posición para la 4ta fila:\n",
    "df['posicion'][3]"
   ]
  },
  {
   "cell_type": "markdown",
   "metadata": {},
   "source": [
    "Al mismo tiempo, permite guardar la info en distintos formatos, por simplicidad, usaremos csv y dejaremos el archivo en el directorio donde nuestro código se encuentra alojado"
   ]
  },
  {
   "cell_type": "code",
   "execution_count": 11,
   "metadata": {},
   "outputs": [],
   "source": [
    "#la función recibe como parámetro el directorio a dejar el archivo, y si queremos o no que las filas conserven el indice, es decir, que se guarde en otra columna\n",
    "nombre_archivo = './clase5_data_ejemplo.csv'\n",
    "df.to_csv(nombre_archivo, index=False)"
   ]
  },
  {
   "cell_type": "markdown",
   "metadata": {},
   "source": [
    "Para levantar un archivo el procedimiento es muy similar"
   ]
  },
  {
   "cell_type": "code",
   "execution_count": 12,
   "metadata": {},
   "outputs": [
    {
     "data": {
      "text/html": [
       "<div>\n",
       "<style scoped>\n",
       "    .dataframe tbody tr th:only-of-type {\n",
       "        vertical-align: middle;\n",
       "    }\n",
       "\n",
       "    .dataframe tbody tr th {\n",
       "        vertical-align: top;\n",
       "    }\n",
       "\n",
       "    .dataframe thead th {\n",
       "        text-align: right;\n",
       "    }\n",
       "</style>\n",
       "<table border=\"1\" class=\"dataframe\">\n",
       "  <thead>\n",
       "    <tr style=\"text-align: right;\">\n",
       "      <th></th>\n",
       "      <th>posicion</th>\n",
       "      <th>tiempo</th>\n",
       "    </tr>\n",
       "  </thead>\n",
       "  <tbody>\n",
       "    <tr>\n",
       "      <th>0</th>\n",
       "      <td>1.000000</td>\n",
       "      <td>0.0</td>\n",
       "    </tr>\n",
       "    <tr>\n",
       "      <th>1</th>\n",
       "      <td>0.999800</td>\n",
       "      <td>0.1</td>\n",
       "    </tr>\n",
       "    <tr>\n",
       "      <th>2</th>\n",
       "      <td>0.999200</td>\n",
       "      <td>0.2</td>\n",
       "    </tr>\n",
       "    <tr>\n",
       "      <th>3</th>\n",
       "      <td>0.998201</td>\n",
       "      <td>0.3</td>\n",
       "    </tr>\n",
       "    <tr>\n",
       "      <th>4</th>\n",
       "      <td>0.996802</td>\n",
       "      <td>0.4</td>\n",
       "    </tr>\n",
       "  </tbody>\n",
       "</table>\n",
       "</div>"
      ],
      "text/plain": [
       "   posicion  tiempo\n",
       "0  1.000000     0.0\n",
       "1  0.999800     0.1\n",
       "2  0.999200     0.2\n",
       "3  0.998201     0.3\n",
       "4  0.996802     0.4"
      ]
     },
     "execution_count": 12,
     "metadata": {},
     "output_type": "execute_result"
    }
   ],
   "source": [
    "df_4= pd.read_csv(nombre_archivo)\n",
    "df_4.head()"
   ]
  },
  {
   "cell_type": "code",
   "execution_count": 13,
   "metadata": {},
   "outputs": [],
   "source": [
    "#para borrar el archivo\n",
    "import os\n",
    "os.remove(nombre_archivo)"
   ]
  },
  {
   "cell_type": "markdown",
   "metadata": {},
   "source": [
    "### Cómo guardo el resultado de una operación en una columna?\n",
    "Para crear una nueva columna, basta con asignarle un nombre y a qué operación corresponde:"
   ]
  },
  {
   "cell_type": "code",
   "execution_count": 14,
   "metadata": {},
   "outputs": [
    {
     "data": {
      "text/plain": [
       "[<matplotlib.lines.Line2D at 0x22e6ba6c730>]"
      ]
     },
     "execution_count": 14,
     "metadata": {},
     "output_type": "execute_result"
    },
    {
     "data": {
      "image/png": "[encoded data removed]",
      "text/plain": [
       "<Figure size 432x288 with 1 Axes>"
      ]
     },
     "metadata": {
      "needs_background": "light"
     },
     "output_type": "display_data"
    }
   ],
   "source": [
    "def derivada(t):\n",
    "    return   ( x(t+h) - x(t-h) ) / (2*h)\n",
    "\n",
    "df['velocidad'] = derivada( df['tiempo'] )\n",
    "\n",
    "plt.plot(df['tiempo'],df['velocidad'])"
   ]
  },
  {
   "cell_type": "markdown",
   "metadata": {},
   "source": [
    "\n",
    "## Consigna 1:\n",
    "La posición de una masa enganchada a un resorte responde a la ecuación de oscilación amortiguada: <br>\n",
    "$ x(t) = 0.0502 e^{-t} \\cos{9.95 \\times t - 0.0997}$<br>\n",
    "Crear un dataframe pandas con la posición y el tiempo de la masa<br>\n",
    "Agregar dos columnas: con el resultado obtenido de determinar su velocidad y su aceleración <br>\n",
    "Plotear un gráfico con la velocidad en función del tiempo."
   ]
  },
  {
   "cell_type": "markdown",
   "metadata": {},
   "source": [
    "# Clase 6: Filtrado y agrupado"
   ]
  },
  {
   "cell_type": "markdown",
   "metadata": {},
   "source": [
    "#### Pandas permite filtrar los datos, para hacer esto usaremos la funcion $loc$ </br> \n",
    "\n",
    "sintaxis:</br>\n",
    "DataFrame.loc[ (condicion 1) ]</br>\n",
    "\n",
    "operador AND: </br>\n",
    "DataFrame.loc[  (condicion 1) &  (condicion 2) ]</br>\n",
    "\n",
    "operador OR:</br>\n",
    "DataFrame.loc[  (condicion 1) | (condicion 2) ]</br>\n",
    "\n",
    "para buscar multiples valores\n",
    "DataFrame.loc[  (DataFrame[columna].isin([lista])) ]</br>"
   ]
  },
  {
   "cell_type": "code",
   "execution_count": 16,
   "metadata": {},
   "outputs": [],
   "source": [
    "#levantamos el set de datos\n",
    "df_temperaturas = pd.read_csv(r'C:\\Users\\Daiana\\OneDrive - inspt.utn.edu.ar\\INSPT\\Computacion 3\\recursos\\recursos tp compu 3 - pandas\\serie_tiempo_temperaturas.csv')"
   ]
  },
  {
   "cell_type": "code",
   "execution_count": 17,
   "metadata": {},
   "outputs": [
    {
     "data": {
      "text/html": [
       "<div>\n",
       "<style scoped>\n",
       "    .dataframe tbody tr th:only-of-type {\n",
       "        vertical-align: middle;\n",
       "    }\n",
       "\n",
       "    .dataframe tbody tr th {\n",
       "        vertical-align: top;\n",
       "    }\n",
       "\n",
       "    .dataframe thead th {\n",
       "        text-align: right;\n",
       "    }\n",
       "</style>\n",
       "<table border=\"1\" class=\"dataframe\">\n",
       "  <thead>\n",
       "    <tr style=\"text-align: right;\">\n",
       "      <th></th>\n",
       "      <th>Year</th>\n",
       "      <th>Country</th>\n",
       "      <th>City</th>\n",
       "      <th>AvgTemperature</th>\n",
       "    </tr>\n",
       "  </thead>\n",
       "  <tbody>\n",
       "    <tr>\n",
       "      <th>0</th>\n",
       "      <td>1995</td>\n",
       "      <td>Argentina</td>\n",
       "      <td>Buenos Aires</td>\n",
       "      <td>61.701370</td>\n",
       "    </tr>\n",
       "    <tr>\n",
       "      <th>1</th>\n",
       "      <td>1995</td>\n",
       "      <td>Bahamas</td>\n",
       "      <td>Nassau</td>\n",
       "      <td>76.628493</td>\n",
       "    </tr>\n",
       "    <tr>\n",
       "      <th>2</th>\n",
       "      <td>1995</td>\n",
       "      <td>Barbados</td>\n",
       "      <td>Bridgetown</td>\n",
       "      <td>80.766849</td>\n",
       "    </tr>\n",
       "    <tr>\n",
       "      <th>3</th>\n",
       "      <td>1995</td>\n",
       "      <td>Belize</td>\n",
       "      <td>Belize City</td>\n",
       "      <td>-44.337190</td>\n",
       "    </tr>\n",
       "    <tr>\n",
       "      <th>4</th>\n",
       "      <td>1995</td>\n",
       "      <td>Bermuda</td>\n",
       "      <td>Hamilton</td>\n",
       "      <td>69.420548</td>\n",
       "    </tr>\n",
       "  </tbody>\n",
       "</table>\n",
       "</div>"
      ],
      "text/plain": [
       "   Year    Country          City  AvgTemperature\n",
       "0  1995  Argentina  Buenos Aires       61.701370\n",
       "1  1995    Bahamas        Nassau       76.628493\n",
       "2  1995   Barbados    Bridgetown       80.766849\n",
       "3  1995     Belize   Belize City      -44.337190\n",
       "4  1995    Bermuda      Hamilton       69.420548"
      ]
     },
     "execution_count": 17,
     "metadata": {},
     "output_type": "execute_result"
    }
   ],
   "source": [
    "#y le pegamos una miradita para ver de que se trata\n",
    "df_temperaturas.head()"
   ]
  },
  {
   "cell_type": "code",
   "execution_count": 18,
   "metadata": {},
   "outputs": [
    {
     "data": {
      "text/html": [
       "<div>\n",
       "<style scoped>\n",
       "    .dataframe tbody tr th:only-of-type {\n",
       "        vertical-align: middle;\n",
       "    }\n",
       "\n",
       "    .dataframe tbody tr th {\n",
       "        vertical-align: top;\n",
       "    }\n",
       "\n",
       "    .dataframe thead th {\n",
       "        text-align: right;\n",
       "    }\n",
       "</style>\n",
       "<table border=\"1\" class=\"dataframe\">\n",
       "  <thead>\n",
       "    <tr style=\"text-align: right;\">\n",
       "      <th></th>\n",
       "      <th>Year</th>\n",
       "      <th>Country</th>\n",
       "      <th>City</th>\n",
       "      <th>AvgTemperature</th>\n",
       "    </tr>\n",
       "  </thead>\n",
       "  <tbody>\n",
       "    <tr>\n",
       "      <th>0</th>\n",
       "      <td>1995</td>\n",
       "      <td>Argentina</td>\n",
       "      <td>Buenos Aires</td>\n",
       "      <td>61.701370</td>\n",
       "    </tr>\n",
       "    <tr>\n",
       "      <th>25</th>\n",
       "      <td>1996</td>\n",
       "      <td>Argentina</td>\n",
       "      <td>Buenos Aires</td>\n",
       "      <td>62.710109</td>\n",
       "    </tr>\n",
       "    <tr>\n",
       "      <th>50</th>\n",
       "      <td>1997</td>\n",
       "      <td>Argentina</td>\n",
       "      <td>Buenos Aires</td>\n",
       "      <td>63.143836</td>\n",
       "    </tr>\n",
       "    <tr>\n",
       "      <th>75</th>\n",
       "      <td>1998</td>\n",
       "      <td>Argentina</td>\n",
       "      <td>Buenos Aires</td>\n",
       "      <td>59.558904</td>\n",
       "    </tr>\n",
       "    <tr>\n",
       "      <th>100</th>\n",
       "      <td>1999</td>\n",
       "      <td>Argentina</td>\n",
       "      <td>Buenos Aires</td>\n",
       "      <td>61.395068</td>\n",
       "    </tr>\n",
       "    <tr>\n",
       "      <th>125</th>\n",
       "      <td>2000</td>\n",
       "      <td>Argentina</td>\n",
       "      <td>Buenos Aires</td>\n",
       "      <td>61.955191</td>\n",
       "    </tr>\n",
       "    <tr>\n",
       "      <th>150</th>\n",
       "      <td>2001</td>\n",
       "      <td>Argentina</td>\n",
       "      <td>Buenos Aires</td>\n",
       "      <td>62.895068</td>\n",
       "    </tr>\n",
       "    <tr>\n",
       "      <th>175</th>\n",
       "      <td>2002</td>\n",
       "      <td>Argentina</td>\n",
       "      <td>Buenos Aires</td>\n",
       "      <td>60.787397</td>\n",
       "    </tr>\n",
       "    <tr>\n",
       "      <th>200</th>\n",
       "      <td>2003</td>\n",
       "      <td>Argentina</td>\n",
       "      <td>Buenos Aires</td>\n",
       "      <td>61.042466</td>\n",
       "    </tr>\n",
       "    <tr>\n",
       "      <th>225</th>\n",
       "      <td>2004</td>\n",
       "      <td>Argentina</td>\n",
       "      <td>Buenos Aires</td>\n",
       "      <td>62.625956</td>\n",
       "    </tr>\n",
       "    <tr>\n",
       "      <th>250</th>\n",
       "      <td>2005</td>\n",
       "      <td>Argentina</td>\n",
       "      <td>Buenos Aires</td>\n",
       "      <td>62.311507</td>\n",
       "    </tr>\n",
       "    <tr>\n",
       "      <th>275</th>\n",
       "      <td>2006</td>\n",
       "      <td>Argentina</td>\n",
       "      <td>Buenos Aires</td>\n",
       "      <td>62.687945</td>\n",
       "    </tr>\n",
       "    <tr>\n",
       "      <th>300</th>\n",
       "      <td>2007</td>\n",
       "      <td>Argentina</td>\n",
       "      <td>Buenos Aires</td>\n",
       "      <td>60.882192</td>\n",
       "    </tr>\n",
       "    <tr>\n",
       "      <th>324</th>\n",
       "      <td>2008</td>\n",
       "      <td>Argentina</td>\n",
       "      <td>Buenos Aires</td>\n",
       "      <td>62.468579</td>\n",
       "    </tr>\n",
       "    <tr>\n",
       "      <th>348</th>\n",
       "      <td>2009</td>\n",
       "      <td>Argentina</td>\n",
       "      <td>Buenos Aires</td>\n",
       "      <td>62.570959</td>\n",
       "    </tr>\n",
       "    <tr>\n",
       "      <th>372</th>\n",
       "      <td>2010</td>\n",
       "      <td>Argentina</td>\n",
       "      <td>Buenos Aires</td>\n",
       "      <td>63.006301</td>\n",
       "    </tr>\n",
       "    <tr>\n",
       "      <th>397</th>\n",
       "      <td>2011</td>\n",
       "      <td>Argentina</td>\n",
       "      <td>Buenos Aires</td>\n",
       "      <td>63.235342</td>\n",
       "    </tr>\n",
       "    <tr>\n",
       "      <th>421</th>\n",
       "      <td>2012</td>\n",
       "      <td>Argentina</td>\n",
       "      <td>Buenos Aires</td>\n",
       "      <td>63.725137</td>\n",
       "    </tr>\n",
       "    <tr>\n",
       "      <th>444</th>\n",
       "      <td>2013</td>\n",
       "      <td>Argentina</td>\n",
       "      <td>Buenos Aires</td>\n",
       "      <td>62.880548</td>\n",
       "    </tr>\n",
       "    <tr>\n",
       "      <th>467</th>\n",
       "      <td>2014</td>\n",
       "      <td>Argentina</td>\n",
       "      <td>Buenos Aires</td>\n",
       "      <td>63.613699</td>\n",
       "    </tr>\n",
       "    <tr>\n",
       "      <th>490</th>\n",
       "      <td>2015</td>\n",
       "      <td>Argentina</td>\n",
       "      <td>Buenos Aires</td>\n",
       "      <td>62.935792</td>\n",
       "    </tr>\n",
       "    <tr>\n",
       "      <th>512</th>\n",
       "      <td>2016</td>\n",
       "      <td>Argentina</td>\n",
       "      <td>Buenos Aires</td>\n",
       "      <td>60.872678</td>\n",
       "    </tr>\n",
       "    <tr>\n",
       "      <th>533</th>\n",
       "      <td>2017</td>\n",
       "      <td>Argentina</td>\n",
       "      <td>Buenos Aires</td>\n",
       "      <td>64.137808</td>\n",
       "    </tr>\n",
       "    <tr>\n",
       "      <th>554</th>\n",
       "      <td>2018</td>\n",
       "      <td>Argentina</td>\n",
       "      <td>Buenos Aires</td>\n",
       "      <td>61.249041</td>\n",
       "    </tr>\n",
       "    <tr>\n",
       "      <th>575</th>\n",
       "      <td>2019</td>\n",
       "      <td>Argentina</td>\n",
       "      <td>Buenos Aires</td>\n",
       "      <td>60.407123</td>\n",
       "    </tr>\n",
       "    <tr>\n",
       "      <th>595</th>\n",
       "      <td>2020</td>\n",
       "      <td>Argentina</td>\n",
       "      <td>Buenos Aires</td>\n",
       "      <td>69.984328</td>\n",
       "    </tr>\n",
       "  </tbody>\n",
       "</table>\n",
       "</div>"
      ],
      "text/plain": [
       "     Year    Country          City  AvgTemperature\n",
       "0    1995  Argentina  Buenos Aires       61.701370\n",
       "25   1996  Argentina  Buenos Aires       62.710109\n",
       "50   1997  Argentina  Buenos Aires       63.143836\n",
       "75   1998  Argentina  Buenos Aires       59.558904\n",
       "100  1999  Argentina  Buenos Aires       61.395068\n",
       "125  2000  Argentina  Buenos Aires       61.955191\n",
       "150  2001  Argentina  Buenos Aires       62.895068\n",
       "175  2002  Argentina  Buenos Aires       60.787397\n",
       "200  2003  Argentina  Buenos Aires       61.042466\n",
       "225  2004  Argentina  Buenos Aires       62.625956\n",
       "250  2005  Argentina  Buenos Aires       62.311507\n",
       "275  2006  Argentina  Buenos Aires       62.687945\n",
       "300  2007  Argentina  Buenos Aires       60.882192\n",
       "324  2008  Argentina  Buenos Aires       62.468579\n",
       "348  2009  Argentina  Buenos Aires       62.570959\n",
       "372  2010  Argentina  Buenos Aires       63.006301\n",
       "397  2011  Argentina  Buenos Aires       63.235342\n",
       "421  2012  Argentina  Buenos Aires       63.725137\n",
       "444  2013  Argentina  Buenos Aires       62.880548\n",
       "467  2014  Argentina  Buenos Aires       63.613699\n",
       "490  2015  Argentina  Buenos Aires       62.935792\n",
       "512  2016  Argentina  Buenos Aires       60.872678\n",
       "533  2017  Argentina  Buenos Aires       64.137808\n",
       "554  2018  Argentina  Buenos Aires       61.249041\n",
       "575  2019  Argentina  Buenos Aires       60.407123\n",
       "595  2020  Argentina  Buenos Aires       69.984328"
      ]
     },
     "execution_count": 18,
     "metadata": {},
     "output_type": "execute_result"
    }
   ],
   "source": [
    "#Suponiendo que quiero otro dataframe que contenta solo los valores de temperatura positivos, solo de Argentina\n",
    "df_3 = df_temperaturas.loc[ (df_temperaturas['Country'] == 'Argentina') & (df_temperaturas['AvgTemperature'] >0.0) ]\n",
    "df_3"
   ]
  },
  {
   "cell_type": "markdown",
   "metadata": {},
   "source": [
    "### cómo agrupo la información?\n",
    "Ahora,nuestro dataframe está desagregado en varias columnas, por ejemplo año, país, temperatura promedio. Y nosotros queremos plotear la temperatura promedio por país."
   ]
  },
  {
   "cell_type": "code",
   "execution_count": null,
   "metadata": {},
   "outputs": [],
   "source": [
    "#si quisiera por ejemplo ver los distintos valores que puede tomar un campo string\n",
    "df_temperaturas.Country.unique()"
   ]
  },
  {
   "cell_type": "code",
   "execution_count": null,
   "metadata": {},
   "outputs": [],
   "source": [
    "#para traerme por ejemplo los datos de Colombia y Ecuador, que son caracteres y no numeros,  puedo filtrarlos como\n",
    "paises=['Colombia','Equador']\n",
    "df_temperaturas.loc[df_temperaturas['Country'].isin(paises)]"
   ]
  },
  {
   "cell_type": "markdown",
   "metadata": {},
   "source": [
    "A veces para ver gráficamente la información que tenemos en un dataframe, más que un gráfico de lineas nos sirve mas un diagrama de dispersión, también llamado scatter plot. "
   ]
  },
  {
   "cell_type": "code",
   "execution_count": null,
   "metadata": {},
   "outputs": [],
   "source": [
    "fig = plt.figure(figsize=(8, 4))# tamaño de la figura\n",
    "plt.ylim(-2, max(df_temperaturas['AvgTemperature'])) # limite del eje y:  desde y hasta\n",
    "plt.xticks(rotation=45, ha='right') # giro 45 grados las etiquetas del eje x para que no se me encimen\n",
    "\n",
    "plt.scatter(df_temperaturas['Country'], #eje x\n",
    "            df_temperaturas['AvgTemperature'], #eje y \n",
    "            s = df_temperaturas['AvgTemperature']*5, # s : size\n",
    "            c =df_temperaturas['AvgTemperature'], # c : color\n",
    "            alpha = 0.7 ) # alpha : opacidad del color"
   ]
  },
  {
   "cell_type": "markdown",
   "metadata": {},
   "source": [
    "la sintaxis para agrupar por un campo un dataframe es:\n",
    "\n",
    "df.groupby( ['NombreColumnaAgrupadora'] )[ 'Metrica' ].agrupador()"
   ]
  },
  {
   "cell_type": "code",
   "execution_count": null,
   "metadata": {},
   "outputs": [],
   "source": [
    "#por ejemplo, el promedio de las temperaturas por país\n",
    "df_temp_agrup = df_temperaturas.groupby(['Country'])['AvgTemperature'].mean().reset_index(name='Temperature')\n",
    "df_temp_agrup.head()"
   ]
  },
  {
   "cell_type": "markdown",
   "metadata": {},
   "source": [
    "# Consigna 2:\n",
    "Levantar el archivo del campus virtual llamado serie_tiempo_temperatura.csv<br>\n",
    "Hacer un paneo general del dataset para ver el nombre de las columnas y de qué se trata la información, de ser necesario, considerar una conversión de unidades.<br>\n",
    "Con el dataframe inicial, crear un scatter plot para ver a distribución de la temperatura Argentina y los países vecinos que contenga el dataset \n",
    "Por otro lado, y con todo lo aprendido, plotear en el mismo gráfico la temperatura máxima y mínima alcanzada cada año.<br>\n",
    "(pssss: de ser necesario, ir creando otros dataframe temporales agrupando y filtrando las columnas que necesite, analizando previamente qué valores únicos contiene.)<br>\n"
   ]
  }
 ],
 "metadata": {
  "kernelspec": {
   "display_name": "base",
   "language": "python",
   "name": "python3"
  },
  "language_info": {
   "codemirror_mode": {
    "name": "ipython",
    "version": 3
   },
   "file_extension": ".py",
   "mimetype": "text/x-python",
   "name": "python",
   "nbconvert_exporter": "python",
   "pygments_lexer": "ipython3",
   "version": "3.9.7"
  }
 },
 "nbformat": 4,
 "nbformat_minor": 2
}
