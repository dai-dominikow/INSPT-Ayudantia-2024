{
 "cells": [
  {
   "cell_type": "markdown",
   "metadata": {},
   "source": [
    "### Unidad 7, Parte I - Computación III\n",
    "Carrera Física Aplicada, INSPT UTN<br>\n",
    "Daiana Dominikow. Mayo 2024."
   ]
  },
  {
   "cell_type": "markdown",
   "metadata": {},
   "source": [
    "## Clase 1: Números Pseudo - Aleatorios\n",
    "Según Wikipedia, el santo Grial del conocimiento, un número aleatorio es el resultado de una combinación variable al azar que viene dada de una función de distribución.<br>\n",
    "Pero en la computadora generar un número que sea totalmente aleatorio no es posible, ya que es una máquina determinística, es decir, dado un mismo input vamos a recibir el mismo resultado, y si las condiciones iniciales que pasamos como input se modifican, el resultado también lo hará.<br>\n",
    "Pero no todo es una tragedia! podemos trabajar con números *pseudoaleatorios* gracias a bibliotecas que facilitan la utilización de algoritmos que pueden devolver distribuciones uniformes de números entre cero y uno, a partir de operaciones matemáticas tras bambalinas que logran determinado fin a partir de una semilla.<br>\n",
    "Ésta última es un número utilizado para inicializar un generador de números pseudoaleatorios, la semilla no necesariamente debe ser un número aleatorio, aunque determina una secuencia de numeros pseudoaleatorios. En criollo: la misma semilla vá a generara la misma secuencia de números pseudoaleatorios over and over....<br>\n",
    "Toda este palabrerío se puede resolver sencillamente en Python, que permite pasar una semilla para generar números pseudoaleatorios aunque de manera predeterminada puede inicializarla<br>\n"
   ]
  },
  {
   "cell_type": "code",
   "execution_count": 1,
   "metadata": {},
   "outputs": [],
   "source": [
    "#iniciamos importando las bibliotecas de siempre que vamos a utilizar\n",
    "import numpy as np\n",
    "import matplotlib.pyplot as plt"
   ]
  },
  {
   "cell_type": "markdown",
   "metadata": {},
   "source": [
    "#### Cómo generamos un número random entre 0 y 1?\n",
    "Lo hermoso de Numpy, es que nos permite trabajar con números únicos o con arreglos de números, para esto existe la función random() de la clase del mismo nombre.<br>\n",
    "Si no le pasamos un argumento a esta función, nos vá a devolver un número único entre $[0 y 1)$.<br>\n",
    "OJO que nunca va a devolver 1, vá a llegar a 0.999999999, pero no incluye al número. (tener este dato en cuenta para el primer ejercicio)<br>"
   ]
  },
  {
   "cell_type": "code",
   "execution_count": 2,
   "metadata": {},
   "outputs": [
    {
     "data": {
      "text/plain": [
       "0.31211384346952775"
      ]
     },
     "execution_count": 2,
     "metadata": {},
     "output_type": "execute_result"
    }
   ],
   "source": [
    "np.random.random()"
   ]
  },
  {
   "cell_type": "markdown",
   "metadata": {},
   "source": [
    "Pero si queremos un vector de 'n' números random, basta con pasarle por argumento la cantidad 'n' de índices que queremos tenga nuestro vector"
   ]
  },
  {
   "cell_type": "code",
   "execution_count": 3,
   "metadata": {},
   "outputs": [
    {
     "data": {
      "text/plain": [
       "array([0.93268065, 0.86682438, 0.6368587 , 0.29267717, 0.15482503,\n",
       "       0.42902457, 0.07700222, 0.60972452, 0.11269744, 0.54655967,\n",
       "       0.66531358, 0.86291749, 0.81334093, 0.40972464, 0.82486347,\n",
       "       0.11263326, 0.90133033, 0.99392243, 0.87997543, 0.58530591,\n",
       "       0.33591683, 0.01344248, 0.98621299, 0.74226764, 0.28908394])"
      ]
     },
     "execution_count": 3,
     "metadata": {},
     "output_type": "execute_result"
    }
   ],
   "source": [
    "n = 25\n",
    "np.random.random(n)"
   ]
  },
  {
   "cell_type": "markdown",
   "metadata": {},
   "source": [
    "#### Si quisiera un intervalo de números diferente? \n",
    "Por ejemplo, de cero a 10?<br>\n",
    "Bueno, para esto basta con multiplicar nuestro número random por 10, tan sencillo como "
   ]
  },
  {
   "cell_type": "code",
   "execution_count": 4,
   "metadata": {},
   "outputs": [
    {
     "data": {
      "text/plain": [
       "array([6.20085818, 1.5157908 , 5.52122679, 8.13771163, 5.2828554 ,\n",
       "       9.32071786, 9.51786233, 5.61135988, 3.29029127, 5.82301969,\n",
       "       1.42516658, 5.97921935, 8.29604589, 0.61161094, 7.12121774,\n",
       "       5.47905451, 8.96091987, 0.40474669, 2.97872796, 2.55842271,\n",
       "       6.20939541, 6.48029194, 9.95256186, 9.49816887, 7.29292275])"
      ]
     },
     "execution_count": 4,
     "metadata": {},
     "output_type": "execute_result"
    }
   ],
   "source": [
    "np.random.random(n)*10"
   ]
  },
  {
   "cell_type": "markdown",
   "metadata": {},
   "source": [
    "#### Pero si quiero  (por ejemplo) un intervalo que vaya de 5 a 10, se nos complica un poco:<br>\n",
    "Primero debemos tener en cuenta que la función nos vá a devolver un valor entre 0 y 1, que debemos transformar a valores que vayan el 5 al 10<br>\n",
    "Ya vimos que si queremos que llegue hasta el 5, debemos multiplicar el valor que devuelve la función por aquella cota<br>\n",
    "En caso de que la función valga 0, nuestro número debería ser 5, así que a la función debemos sumarle 5<br>"
   ]
  },
  {
   "cell_type": "code",
   "execution_count": 5,
   "metadata": {},
   "outputs": [
    {
     "data": {
      "text/plain": [
       "array([5.00885851, 9.69182016, 9.20097321, 7.86200856, 5.82355963,\n",
       "       7.76946055, 9.6098331 , 5.05294002, 5.29692665, 5.52399858,\n",
       "       8.32228486, 7.78049771, 6.89280584, 7.86845786, 9.45989282,\n",
       "       9.86842179, 6.51363543, 6.07663097, 7.26307411, 8.05789858,\n",
       "       5.68457163, 8.49661238, 7.40534317, 5.10912044, 8.29511048])"
      ]
     },
     "execution_count": 5,
     "metadata": {},
     "output_type": "execute_result"
    }
   ],
   "source": [
    "np.random.random(n) * 5 + 5"
   ]
  },
  {
   "cell_type": "markdown",
   "metadata": {},
   "source": [
    "El algoritmo para cualquier distribución de números random lo podríamos escribir como<br>\n",
    "$random * (fin - inicio) + inicio$"
   ]
  },
  {
   "cell_type": "code",
   "execution_count": 6,
   "metadata": {},
   "outputs": [
    {
     "data": {
      "text/plain": [
       "array([ 1.16018583,  0.31096165, -0.47324361, -0.57006875, -1.5462138 ,\n",
       "       -0.668711  , -0.81578275, -0.2119594 ,  0.55583822,  1.25017308,\n",
       "        1.35363159,  0.53774483, -0.20210369, -1.47624576, -1.95471418,\n",
       "       -1.73864363,  0.83740165,  0.22365457, -1.05728806,  0.79770436,\n",
       "       -1.41450768, -1.79169114,  1.02492722,  1.42656804, -1.00770478])"
      ]
     },
     "execution_count": 6,
     "metadata": {},
     "output_type": "execute_result"
    }
   ],
   "source": [
    "#ejemplo, quiero una distribución entre -2 y 2\n",
    "inicio = -2\n",
    "fin = 2\n",
    "np.random.random(n) * ( fin - inicio ) + inicio "
   ]
  },
  {
   "cell_type": "markdown",
   "metadata": {},
   "source": [
    "#### Empecemos entonces con la práctica de números aleatorios  (TP 6) para entender un poco de que se trata todo esto<br>\n"
   ]
  },
  {
   "cell_type": "markdown",
   "metadata": {},
   "source": [
    "## Consignas TP 6: números peudoaleatoreos, Parte I.\n",
    "0. Cree dos vectores de 1000 números random entre -250 y 250, a continuación plotee una distribucion con los valores que obtuvo. Qué puede observar?<br><br>\n",
    "1. Calcule la probabilidad de obtener un número 'x' luego de 'n' veces de lanzar un dado, para ello guarde los valores de cada tirada en una lista, y cree una función que dada esa lista y el número a buscar, devuelva el % de veces que se obtuvo dicho número.<br>\n",
    "Por otro lado realice un histograma con los resultados, qué conclusiones puede sacar viendo dicho histograma a medida que varía 'n'?, pruebe con 100, 1000 y 10000 ejecuciones.<br>\n",
    "Para plotear el histograma utilice la función plt.hist(vector, bins = 48), donde bins es la cantidad de divisiones del histograma.<br>"
   ]
  }
 ],
 "metadata": {
  "kernelspec": {
   "display_name": "base",
   "language": "python",
   "name": "python3"
  },
  "language_info": {
   "codemirror_mode": {
    "name": "ipython",
    "version": 3
   },
   "file_extension": ".py",
   "mimetype": "text/x-python",
   "name": "python",
   "nbconvert_exporter": "python",
   "pygments_lexer": "ipython3",
   "version": "3.10.9"
  }
 },
 "nbformat": 4,
 "nbformat_minor": 2
}
