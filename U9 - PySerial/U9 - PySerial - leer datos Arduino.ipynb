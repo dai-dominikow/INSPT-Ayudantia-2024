{
 "cells": [
  {
   "cell_type": "markdown",
   "metadata": {},
   "source": [
    "# Unidad 9 - Computación III\n",
    "Carrera Física Aplicada, INSPT UTN<br>\n",
    "Daiana Dominikow. Septiembre 2024."
   ]
  },
  {
   "cell_type": "markdown",
   "metadata": {},
   "source": [
    "# PySerial: leer y almacenar datos de sensor Arduino.\n",
    "<p style=\"background-color:rgba(255, 99, 71, 0.6);\">Disclaimer: esto no funciona en Google Colab. Solo pueden utilizarlo localmente. Colab procesa en la nube, no en nuestra compu, por lo tanto no tiene manera de acceder a los puertos USB locales. Recomiendo utilizar VScode con la extensión de Jupyter Notebooks para este fin</p>\n",
    "\n",
    "\n",
    "Al día de hoy deben estar ya familiarizados con nuestros amigos paquetes **Numpy**, **Pandas** y ***MatplotLib***, la santa trinidad del análisis de datos y la física computacional en Python.<br><br>\n",
    "Hoy les vengo a recordar algo visto en Computación 2 y utilizado en tantas clases de Laboratorio de Física: la placa de Arduino.<br><br>\n",
    "Recordarán también, que tomar datos con un sensor Arduino y guardarlos (en general) requería  de un trabajo manual y operativo de copiar lo impreso por serial y pegarlo en un archivo de texto. (Ojo, esto se puede automatizar con un módulo para tarjetas SD y una biblioteca hecha para tal fin, pero no disponemos de tales herramientas, y con Python podemos rabajar y luego analizar la data de manera mas sencilla).<br><br>\n",
    "\n",
    "### Pequeña introducción, qué es el Serial?\n",
    "<em> Spoiler: Haremos un repaso de Arduino en breves.</em><br><br>\n",
    "Si tienen a mano código _C_ escrito durante la cursada de Compu 2, han de encontrar que utilizábamos un método 'Serial', inicializandolo como <em>Serial.begin(9600);</em> para imprimir por consola con el método <em>Serial.println(variable)</em> dentro del loop.<br><br>\n",
    "El Serial en Arduino refiere a un puerto de comunicación, es un recurso utilizado para comunicar al Arduino y la computadora, un módulo, o incluso otro Arduino.<br> Podemos establecer comunicación con el microcontrolador a través de puertos USB, dispositivos bluetooth, etc, sabiendo cómo programar y configurar los puertos Serial de Arduino, así como recibir y ver los datos de la comunicación. <br>\n",
    "\n",
    "<strong>PySerial</strong> es una biblioteca que permite conectarse a todos los puertos serial disponibles, con ella vamos a poder primero buscar en qué puerto está conectado nuestro Arduino. Con este dato, y el BAUD (los bits por segundo que transmite el microcontrolador al serial, en general son 300, 600, 1200, 2400, 4800, 9600, 14400, 19200, 28800, 38400, 57600, o 115200) podremos conectarnos con python a la placa y obtener los datos del sensor que le querramos poner."
   ]
  },
  {
   "cell_type": "code",
   "execution_count": 1,
   "metadata": {},
   "outputs": [
    {
     "name": "stdout",
     "output_type": "stream",
     "text": [
      "Defaulting to user installation because normal site-packages is not writeable\n",
      "Requirement already satisfied: PySerial in /home/morbi/.local/lib/python3.10/site-packages (3.5)\n"
     ]
    }
   ],
   "source": [
    "#para instalar PySerial, ejecutamos\n",
    "!pip install PySerial"
   ]
  },
  {
   "cell_type": "markdown",
   "metadata": {},
   "source": [
    "Lo primero es entonces, importar la biblioteca"
   ]
  },
  {
   "cell_type": "code",
   "execution_count": 3,
   "metadata": {},
   "outputs": [],
   "source": [
    "import serial #para leer la data del arduino uno\n",
    "import numpy as np\n"
   ]
  },
  {
   "cell_type": "markdown",
   "metadata": {},
   "source": [
    "Ahora, supongamos que quiero encontrar en qué puerto tengo conectada mi placa, a la que previamente le cargué un script que toma la info de un fotoreceptor que va a devolver un dato numérico entre 0 y 1023."
   ]
  },
  {
   "cell_type": "code",
   "execution_count": 4,
   "metadata": {},
   "outputs": [
    {
     "name": "stdout",
     "output_type": "stream",
     "text": [
      "/dev/ttyS0 - n/a\n",
      "/dev/ttyS1 - n/a\n",
      "/dev/ttyS2 - n/a\n",
      "/dev/ttyS3 - n/a\n",
      "/dev/ttyS6 - n/a\n",
      "/dev/ttyS7 - n/a\n",
      "/dev/ttyS8 - n/a\n",
      "/dev/ttyS9 - n/a\n",
      "/dev/ttyS10 - n/a\n",
      "/dev/ttyS11 - n/a\n",
      "/dev/ttyS12 - n/a\n",
      "/dev/ttyS13 - n/a\n",
      "/dev/ttyS14 - n/a\n",
      "/dev/ttyS15 - n/a\n",
      "/dev/ttyS16 - n/a\n",
      "/dev/ttyS17 - n/a\n",
      "/dev/ttyS18 - n/a\n",
      "/dev/ttyS19 - n/a\n",
      "/dev/ttyS20 - n/a\n",
      "/dev/ttyS21 - n/a\n",
      "/dev/ttyS22 - n/a\n",
      "/dev/ttyS23 - n/a\n",
      "/dev/ttyS24 - n/a\n",
      "/dev/ttyS25 - n/a\n",
      "/dev/ttyS26 - n/a\n",
      "/dev/ttyS27 - n/a\n",
      "/dev/ttyS28 - n/a\n",
      "/dev/ttyS29 - n/a\n",
      "/dev/ttyS30 - n/a\n",
      "/dev/ttyS31 - n/a\n",
      "/dev/ttyS4 - n/a\n",
      "/dev/ttyS5 - n/a\n",
      "/dev/ttyACM0 - ttyACM0\n"
     ]
    }
   ],
   "source": [
    "### para ver en que puerto tengo el sensor en cuestión\n",
    "import serial.tools.list_ports\n",
    "\n",
    "#esta es la versión facil, listar todos los puertos disponibles\n",
    "ports = list(serial.tools.list_ports.comports())\n",
    "\n",
    "for p in ports:\n",
    "    print(p)"
   ]
  },
  {
   "cell_type": "markdown",
   "metadata": {},
   "source": [
    "Como observarán mas arriba, mi arduino esta en el puerto '/dev/cu.usbserial-2120' al momento de ejecutar este script. El gran problema de esta biblioteca está en que desde Google Colab no es util ya que no ejecuta localmente, por lo tanto no ve los puertos de la compu. PERO, PERO PERO, sabiendo en que puesto está previamente, puedo hacerlo."
   ]
  },
  {
   "cell_type": "code",
   "execution_count": 30,
   "metadata": {},
   "outputs": [
    {
     "name": "stdout",
     "output_type": "stream",
     "text": [
      "Conectado exitosamente al puerto: /dev/ttyACM0 BAUD rate: 9600\n"
     ]
    }
   ],
   "source": [
    "#como conecto mi script jupyter a mi placa arduino?\n",
    "\n",
    "puerto_arduino = '/dev/ttyACM0' #el puerto \n",
    "baud = 9600 #velocidad de comunicación entre la compu y el arduino\n",
    "\n",
    "def conectar_arduino(puerto_arduino, baud):\n",
    "    arduino = serial.Serial(port=puerto_arduino, baudrate=baud)  #inicializo la conexión\n",
    "    print(f'Conectado exitosamente al puerto: {puerto_arduino} BAUD rate: {baud}')\n",
    "    return arduino\n"
   ]
  },
  {
   "cell_type": "code",
   "execution_count": 74,
   "metadata": {},
   "outputs": [
    {
     "name": "stdout",
     "output_type": "stream",
     "text": [
      "Conectado exitosamente al puerto: /dev/ttyACM0 BAUD rate: 9600\n"
     ]
    }
   ],
   "source": [
    "arduino = conectar_arduino(puerto_arduino,baud)"
   ]
  },
  {
   "cell_type": "code",
   "execution_count": 71,
   "metadata": {},
   "outputs": [],
   "source": [
    "#para cerrar la conexión\n",
    "arduino.close()"
   ]
  },
  {
   "cell_type": "markdown",
   "metadata": {},
   "source": [
    "### Leer información del Serial\n",
    "<em>no se apuren, ya vamos a repasar Arduino, supongamos tenemos un sensor del año pasado armado</em>\n",
    "Veamos que podría leer continuamente la info de arduino e imprimirla."
   ]
  },
  {
   "cell_type": "code",
   "execution_count": 37,
   "metadata": {},
   "outputs": [
    {
     "name": "stdout",
     "output_type": "stream",
     "text": [
      "leyendo info sensor: 43\n",
      "leyendo info sensor: 159\n",
      "leyendo info sensor: 228\n",
      "leyendo info sensor: 312\n",
      "leyendo info sensor: 324\n",
      "leyendo info sensor: 327\n",
      "leyendo info sensor: 318\n",
      "leyendo info sensor: 303\n",
      "leyendo info sensor: 315\n",
      "leyendo info sensor: 325\n",
      "leyendo info sensor: 297\n",
      "leyendo info sensor: 295\n",
      "leyendo info sensor: 296\n",
      "leyendo info sensor: 298\n",
      "leyendo info sensor: 298\n",
      "leyendo info sensor: 297\n",
      "leyendo info sensor: 296\n",
      "leyendo info sensor: 295\n",
      "leyendo info sensor: 296\n",
      "leyendo info sensor: 297\n",
      "leyendo info sensor: 295\n",
      "leyendo info sensor: 294\n",
      "leyendo info sensor: 294\n",
      "leyendo info sensor: 293\n",
      "leyendo info sensor: 293\n",
      "leyendo info sensor: 293\n",
      "leyendo info sensor: 293\n",
      "leyendo info sensor: 294\n",
      "leyendo info sensor: 293\n",
      "leyendo info sensor: 293\n",
      "leyendo info sensor: 293\n",
      "leyendo info sensor: 293\n",
      "leyendo info sensor: 295\n",
      "leyendo info sensor: 300\n",
      "leyendo info sensor: 312\n",
      "leyendo info sensor: 310\n",
      "leyendo info sensor: 302\n",
      "leyendo info sensor: 296\n",
      "leyendo info sensor: 293\n",
      "leyendo info sensor: 295\n",
      "leyendo info sensor: 294\n",
      "leyendo info sensor: 294\n",
      "leyendo info sensor: 294\n",
      "leyendo info sensor: 294\n",
      "leyendo info sensor: 294\n",
      "leyendo info sensor: 293\n",
      "leyendo info sensor: 294\n",
      "leyendo info sensor: 294\n",
      "leyendo info sensor: 294\n",
      "leyendo info sensor: 294\n",
      "leyendo info sensor: 293\n",
      "leyendo info sensor: 294\n",
      "leyendo info sensor: 293\n",
      "leyendo info sensor: 293\n",
      "leyendo info sensor: 294\n",
      "leyendo info sensor: 294\n",
      "leyendo info sensor: 301\n",
      "leyendo info sensor: 300\n",
      "leyendo info sensor: 297\n",
      "leyendo info sensor: 293\n",
      "leyendo info sensor: 294\n",
      "leyendo info sensor: 296\n",
      "leyendo info sensor: 295\n",
      "leyendo info sensor: 293\n",
      "leyendo info sensor: 293\n",
      "leyendo info sensor: 293\n",
      "leyendo info sensor: 294\n",
      "leyendo info sensor: 308\n",
      "leyendo info sensor: 328\n",
      "leyendo info sensor: 320\n",
      "leyendo info sensor: 322\n",
      "leyendo info sensor: 326\n",
      "leyendo info sensor: 327\n",
      "leyendo info sensor: 320\n",
      "leyendo info sensor: 330\n",
      "leyendo info sensor: 339\n",
      "leyendo info sensor: 338\n",
      "leyendo info sensor: 337\n",
      "leyendo info sensor: 338\n",
      "leyendo info sensor: 328\n",
      "leyendo info sensor: 330\n",
      "leyendo info sensor: 328\n",
      "leyendo info sensor: 328\n",
      "leyendo info sensor: 327\n",
      "leyendo info sensor: 327\n",
      "leyendo info sensor: 328\n",
      "leyendo info sensor: 326\n",
      "leyendo info sensor: 326\n",
      "leyendo info sensor: 327\n",
      "leyendo info sensor: 326\n",
      "leyendo info sensor: 326\n",
      "leyendo info sensor: 326\n",
      "leyendo info sensor: 335\n",
      "leyendo info sensor: 338\n",
      "leyendo info sensor: 339\n",
      "leyendo info sensor: 338\n",
      "leyendo info sensor: 335\n",
      "leyendo info sensor: 338\n",
      "leyendo info sensor: 339\n",
      "leyendo info sensor: 332\n",
      "leyendo info sensor: 333\n",
      "leyendo info sensor: 334\n",
      "leyendo info sensor: 330\n",
      "leyendo info sensor: 331\n",
      "leyendo info sensor: 332\n",
      "leyendo info sensor: 332\n",
      "leyendo info sensor: 334\n",
      "leyendo info sensor: 335\n",
      "leyendo info sensor: 331\n",
      "leyendo info sensor: 332\n",
      "leyendo info sensor: 339\n",
      "leyendo info sensor: 339\n",
      "leyendo info sensor: 340\n",
      "leyendo info sensor: 339\n",
      "leyendo info sensor: 340\n",
      "leyendo info sensor: 339\n",
      "leyendo info sensor: 339\n",
      "leyendo info sensor: 340\n",
      "leyendo info sensor: 339\n",
      "leyendo info sensor: 340\n",
      "leyendo info sensor: 339\n",
      "leyendo info sensor: 339\n",
      "leyendo info sensor: 339\n",
      "leyendo info sensor: 339\n",
      "leyendo info sensor: 339\n",
      "leyendo info sensor: 339\n",
      "leyendo info sensor: 339\n",
      "leyendo info sensor: 339\n",
      "leyendo info sensor: 339\n",
      "leyendo info sensor: 340\n",
      "leyendo info sensor: 339\n",
      "leyendo info sensor: 340\n",
      "leyendo info sensor: 339\n",
      "leyendo info sensor: 339\n",
      "leyendo info sensor: 339\n",
      "leyendo info sensor: 339\n",
      "leyendo info sensor: 340\n",
      "leyendo info sensor: 339\n",
      "leyendo info sensor: 339\n",
      "leyendo info sensor: 338\n",
      "leyendo info sensor: 339\n",
      "leyendo info sensor: 339\n",
      "leyendo info sensor: 339\n",
      "leyendo info sensor: 339\n",
      "leyendo info sensor: 339\n",
      "leyendo info sensor: 339\n",
      "leyendo info sensor: 339\n",
      "leyendo info sensor: 339\n",
      "leyendo info sensor: 340\n",
      "leyendo info sensor: 339\n",
      "leyendo info sensor: 339\n",
      "leyendo info sensor: 339\n",
      "leyendo info sensor: 338\n",
      "leyendo info sensor: 339\n",
      "leyendo info sensor: 339\n",
      "leyendo info sensor: 339\n",
      "leyendo info sensor: 339\n",
      "leyendo info sensor: 339\n",
      "leyendo info sensor: 339\n",
      "leyendo info sensor: 339\n",
      "leyendo info sensor: 340\n",
      "leyendo info sensor: 339\n",
      "leyendo info sensor: 338\n",
      "leyendo info sensor: 338\n",
      "leyendo info sensor: 311\n",
      "leyendo info sensor: 292\n",
      "leyendo info sensor: 291\n",
      "leyendo info sensor: 291\n",
      "leyendo info sensor: 291\n",
      "leyendo info sensor: 290\n",
      "leyendo info sensor: 291\n",
      "leyendo info sensor: 290\n",
      "leyendo info sensor: 291\n",
      "leyendo info sensor: 292\n",
      "leyendo info sensor: 299\n",
      "leyendo info sensor: 309\n",
      "leyendo info sensor: 315\n",
      "leyendo info sensor: 320\n",
      "leyendo info sensor: 311\n",
      "leyendo info sensor: 311\n",
      "leyendo info sensor: 310\n",
      "leyendo info sensor: 317\n",
      "leyendo info sensor: 318\n",
      "leyendo info sensor: 298\n",
      "leyendo info sensor: 316\n",
      "leyendo info sensor: 323\n",
      "leyendo info sensor: 307\n",
      "leyendo info sensor: 308\n",
      "leyendo info sensor: 303\n",
      "leyendo info sensor: 303\n",
      "leyendo info sensor: 300\n",
      "leyendo info sensor: 299\n",
      "leyendo info sensor: 297\n",
      "leyendo info sensor: 298\n",
      "leyendo info sensor: 299\n",
      "leyendo info sensor: 297\n",
      "leyendo info sensor: 295\n",
      "leyendo info sensor: 296\n",
      "leyendo info sensor: 296\n",
      "leyendo info sensor: 299\n",
      "leyendo info sensor: 295\n",
      "leyendo info sensor: 296\n",
      "leyendo info sensor: 296\n",
      "leyendo info sensor: 303\n",
      "leyendo info sensor: 308\n",
      "leyendo info sensor: 309\n",
      "leyendo info sensor: 306\n",
      "leyendo info sensor: 290\n",
      "leyendo info sensor: 309\n",
      "leyendo info sensor: 253\n",
      "leyendo info sensor: 53\n",
      "leyendo info sensor: 41\n",
      "leyendo info sensor: 38\n",
      "leyendo info sensor: 37\n",
      "leyendo info sensor: 254\n",
      "leyendo info sensor: 264\n",
      "leyendo info sensor: 258\n",
      "leyendo info sensor: 277\n",
      "leyendo info sensor: 327\n",
      "leyendo info sensor: 324\n",
      "leyendo info sensor: 325\n",
      "leyendo info sensor: 323\n",
      "leyendo info sensor: 322\n"
     ]
    },
    {
     "ename": "KeyboardInterrupt",
     "evalue": "",
     "output_type": "error",
     "traceback": [
      "\u001b[0;31m---------------------------------------------------------------------------\u001b[0m",
      "\u001b[0;31mKeyboardInterrupt\u001b[0m                         Traceback (most recent call last)",
      "Cell \u001b[0;32mIn[37], line 6\u001b[0m\n\u001b[1;32m      3\u001b[0m     \u001b[38;5;28mprint\u001b[39m(\u001b[38;5;124mf\u001b[39m\u001b[38;5;124m'\u001b[39m\u001b[38;5;124mleyendo info sensor: \u001b[39m\u001b[38;5;132;01m{\u001b[39;00m\u001b[38;5;28mint\u001b[39m(data)\u001b[38;5;132;01m}\u001b[39;00m\u001b[38;5;124m'\u001b[39m)\n\u001b[1;32m      5\u001b[0m \u001b[38;5;28;01mwhile\u001b[39;00m \u001b[38;5;28;01mTrue\u001b[39;00m:\n\u001b[0;32m----> 6\u001b[0m     \u001b[43mread_sensor_data\u001b[49m\u001b[43m(\u001b[49m\u001b[43m)\u001b[49m\n",
      "Cell \u001b[0;32mIn[37], line 2\u001b[0m, in \u001b[0;36mread_sensor_data\u001b[0;34m()\u001b[0m\n\u001b[1;32m      1\u001b[0m \u001b[38;5;28;01mdef\u001b[39;00m \u001b[38;5;21mread_sensor_data\u001b[39m():\n\u001b[0;32m----> 2\u001b[0m     data \u001b[38;5;241m=\u001b[39m \u001b[43marduino\u001b[49m\u001b[38;5;241;43m.\u001b[39;49m\u001b[43mreadline\u001b[49m\u001b[43m(\u001b[49m\u001b[43m)\u001b[49m\u001b[38;5;241m.\u001b[39mdecode(\u001b[38;5;124m'\u001b[39m\u001b[38;5;124mutf-8\u001b[39m\u001b[38;5;124m'\u001b[39m)\u001b[38;5;241m.\u001b[39mstrip()\n\u001b[1;32m      3\u001b[0m     \u001b[38;5;28mprint\u001b[39m(\u001b[38;5;124mf\u001b[39m\u001b[38;5;124m'\u001b[39m\u001b[38;5;124mleyendo info sensor: \u001b[39m\u001b[38;5;132;01m{\u001b[39;00m\u001b[38;5;28mint\u001b[39m(data)\u001b[38;5;132;01m}\u001b[39;00m\u001b[38;5;124m'\u001b[39m)\n",
      "File \u001b[0;32m~/.local/lib/python3.10/site-packages/serial/serialposix.py:565\u001b[0m, in \u001b[0;36mSerial.read\u001b[0;34m(self, size)\u001b[0m\n\u001b[1;32m    563\u001b[0m \u001b[38;5;28;01mwhile\u001b[39;00m \u001b[38;5;28mlen\u001b[39m(read) \u001b[38;5;241m<\u001b[39m size:\n\u001b[1;32m    564\u001b[0m     \u001b[38;5;28;01mtry\u001b[39;00m:\n\u001b[0;32m--> 565\u001b[0m         ready, _, _ \u001b[38;5;241m=\u001b[39m \u001b[43mselect\u001b[49m\u001b[38;5;241;43m.\u001b[39;49m\u001b[43mselect\u001b[49m\u001b[43m(\u001b[49m\u001b[43m[\u001b[49m\u001b[38;5;28;43mself\u001b[39;49m\u001b[38;5;241;43m.\u001b[39;49m\u001b[43mfd\u001b[49m\u001b[43m,\u001b[49m\u001b[43m \u001b[49m\u001b[38;5;28;43mself\u001b[39;49m\u001b[38;5;241;43m.\u001b[39;49m\u001b[43mpipe_abort_read_r\u001b[49m\u001b[43m]\u001b[49m\u001b[43m,\u001b[49m\u001b[43m \u001b[49m\u001b[43m[\u001b[49m\u001b[43m]\u001b[49m\u001b[43m,\u001b[49m\u001b[43m \u001b[49m\u001b[43m[\u001b[49m\u001b[43m]\u001b[49m\u001b[43m,\u001b[49m\u001b[43m \u001b[49m\u001b[43mtimeout\u001b[49m\u001b[38;5;241;43m.\u001b[39;49m\u001b[43mtime_left\u001b[49m\u001b[43m(\u001b[49m\u001b[43m)\u001b[49m\u001b[43m)\u001b[49m\n\u001b[1;32m    566\u001b[0m         \u001b[38;5;28;01mif\u001b[39;00m \u001b[38;5;28mself\u001b[39m\u001b[38;5;241m.\u001b[39mpipe_abort_read_r \u001b[38;5;129;01min\u001b[39;00m ready:\n\u001b[1;32m    567\u001b[0m             os\u001b[38;5;241m.\u001b[39mread(\u001b[38;5;28mself\u001b[39m\u001b[38;5;241m.\u001b[39mpipe_abort_read_r, \u001b[38;5;241m1000\u001b[39m)\n",
      "\u001b[0;31mKeyboardInterrupt\u001b[0m: "
     ]
    }
   ],
   "source": [
    "def read_sensor_data():\n",
    "    data = arduino.readline().decode('utf-8').strip()\n",
    "    print(f'leyendo info sensor: {int(data)}')\n",
    " \n",
    "while True:\n",
    "    read_sensor_data()\n"
   ]
  },
  {
   "cell_type": "markdown",
   "metadata": {},
   "source": [
    "Pero como vimos, si lo ejecutamos así como está, el loop no vá a cortar nunca.\n",
    "Tenemos que acotarlo en el tiempo, la biblioteca time la vamos a utilizar para ver en qué momento arranca el script y definirle durante cuanto tiempo queremos que mida el tiempo"
   ]
  },
  {
   "cell_type": "code",
   "execution_count": 88,
   "metadata": {},
   "outputs": [
    {
     "name": "stdout",
     "output_type": "stream",
     "text": [
      "leyendo info sensor: 294\n",
      "leyendo info sensor: 300\n",
      "leyendo info sensor: 301\n",
      "leyendo info sensor: 301\n",
      "leyendo info sensor: 300\n",
      "leyendo info sensor: 300\n",
      "leyendo info sensor: 324\n",
      "leyendo info sensor: 302\n",
      "leyendo info sensor: 302\n",
      "leyendo info sensor: 305\n",
      "leyendo info sensor: 304\n",
      "leyendo info sensor: 303\n",
      "leyendo info sensor: 311\n",
      "leyendo info sensor: 300\n",
      "leyendo info sensor: 303\n",
      "leyendo info sensor: 316\n",
      "leyendo info sensor: 297\n",
      "leyendo info sensor: 298\n",
      "leyendo info sensor: 299\n",
      "leyendo info sensor: 300\n",
      "leyendo info sensor: 297\n",
      "leyendo info sensor: 303\n",
      "leyendo info sensor: 298\n",
      "leyendo info sensor: 299\n",
      "leyendo info sensor: 300\n",
      "leyendo info sensor: 326\n",
      "leyendo info sensor: 340\n",
      "leyendo info sensor: 338\n",
      "leyendo info sensor: 320\n",
      "leyendo info sensor: 327\n",
      "leyendo info sensor: 320\n",
      "leyendo info sensor: 317\n",
      "leyendo info sensor: 316\n",
      "leyendo info sensor: 317\n",
      "leyendo info sensor: 320\n",
      "leyendo info sensor: 310\n",
      "leyendo info sensor: 315\n",
      "leyendo info sensor: 314\n",
      "leyendo info sensor: 335\n",
      "leyendo info sensor: 320\n",
      "leyendo info sensor: 321\n",
      "leyendo info sensor: 321\n",
      "leyendo info sensor: 321\n",
      "leyendo info sensor: 323\n",
      "leyendo info sensor: 324\n",
      "leyendo info sensor: 324\n",
      "leyendo info sensor: 326\n",
      "leyendo info sensor: 324\n",
      "leyendo info sensor: 322\n",
      "leyendo info sensor: 325\n",
      "leyendo info sensor: 324\n",
      "leyendo info sensor: 324\n",
      "leyendo info sensor: 318\n",
      "leyendo info sensor: 320\n",
      "leyendo info sensor: 322\n",
      "leyendo info sensor: 323\n",
      "leyendo info sensor: 322\n",
      "leyendo info sensor: 324\n",
      "leyendo info sensor: 322\n",
      "leyendo info sensor: 322\n",
      "leyendo info sensor: 325\n",
      "leyendo info sensor: 322\n",
      "leyendo info sensor: 323\n",
      "leyendo info sensor: 327\n",
      "leyendo info sensor: 326\n",
      "leyendo info sensor: 324\n",
      "leyendo info sensor: 329\n",
      "leyendo info sensor: 327\n",
      "leyendo info sensor: 325\n",
      "leyendo info sensor: 326\n",
      "leyendo info sensor: 326\n",
      "leyendo info sensor: 326\n",
      "leyendo info sensor: 327\n",
      "leyendo info sensor: 327\n",
      "leyendo info sensor: 328\n",
      "leyendo info sensor: 326\n",
      "leyendo info sensor: 48\n",
      "leyendo info sensor: 38\n",
      "leyendo info sensor: 41\n",
      "leyendo info sensor: 295\n",
      "leyendo info sensor: 285\n",
      "leyendo info sensor: 41\n",
      "leyendo info sensor: 257\n"
     ]
    }
   ],
   "source": [
    "import time\n",
    "t_end = time.time() + 5  #supongamos que quiero que corra mi script durante 5 segundos.\n",
    "\n",
    "while time.time() < t_end:\n",
    "    read_sensor_data()\n"
   ]
  },
  {
   "cell_type": "markdown",
   "metadata": {},
   "source": [
    "### Leer la información del Serial y guardarla en un array numpy.\n",
    "Esto es lo importante ya que si no guardamos la información muy dificilmente podamos trabajarla luego."
   ]
  },
  {
   "cell_type": "code",
   "execution_count": 84,
   "metadata": {},
   "outputs": [
    {
     "name": "stdout",
     "output_type": "stream",
     "text": [
      "Guardando data sensor a las 18:50:52: 295\n",
      "Guardando data sensor a las 18:50:52: 295\n",
      "Guardando data sensor a las 18:50:52: 298\n",
      "Guardando data sensor a las 18:50:52: 300\n",
      "Guardando data sensor a las 18:50:52: 299\n",
      "Guardando data sensor a las 18:50:52: 299\n",
      "Guardando data sensor a las 18:50:52: 296\n",
      "Guardando data sensor a las 18:50:52: 296\n",
      "Guardando data sensor a las 18:50:52: 66\n",
      "Guardando data sensor a las 18:50:52: 40\n",
      "Guardando data sensor a las 18:50:53: 39\n",
      "Guardando data sensor a las 18:50:54: 246\n",
      "Guardando data sensor a las 18:50:55: 224\n",
      "Guardando data sensor a las 18:50:56: 174\n",
      "Guardando data sensor a las 18:50:57: 77\n",
      "Guardando data sensor a las 18:50:58: 54\n",
      "Guardando data sensor a las 18:50:59: 85\n",
      "Guardando data sensor a las 18:51:00: 34\n",
      "Guardando data sensor a las 18:51:01: 191\n",
      "Guardando data sensor a las 18:51:02: 47\n"
     ]
    }
   ],
   "source": [
    "#inicializamos el array\n",
    "def save_sensor_data():\n",
    "    data = arduino.readline().decode('utf-8').strip()\n",
    "    print(f\"Guardando data sensor a las {time.strftime('%H:%M:%S')}: {data}\")\n",
    "    return data \n",
    "\n",
    "datos = np.array([])\n",
    "\n",
    "t_end = time.time() + 10  #supongamos que quiero que corra mi script durante 5 segundos.\n",
    "\n",
    "while time.time() < t_end:\n",
    "    data = save_sensor_data()\n",
    "    datos = np.append(datos, int(data))\n"
   ]
  },
  {
   "cell_type": "markdown",
   "metadata": {},
   "source": [
    "Ahora si imprimo la info del sensor"
   ]
  },
  {
   "cell_type": "code",
   "execution_count": 85,
   "metadata": {},
   "outputs": [
    {
     "name": "stdout",
     "output_type": "stream",
     "text": [
      "[295. 295. 298. 300. 299. 299. 296. 296.  66.  40.  39. 246. 224. 174.\n",
      "  77.  54.  85.  34. 191.  47.]\n"
     ]
    }
   ],
   "source": [
    "print(datos)"
   ]
  },
  {
   "cell_type": "code",
   "execution_count": 87,
   "metadata": {},
   "outputs": [
    {
     "data": {
      "text/plain": [
       "[<matplotlib.lines.Line2D at 0x703f7930e4d0>]"
      ]
     },
     "execution_count": 87,
     "metadata": {},
     "output_type": "execute_result"
    },
    {
     "data": {
      "image/png": "[encoded data removed]",
      "text/plain": [
       "<Figure size 640x480 with 1 Axes>"
      ]
     },
     "metadata": {},
     "output_type": "display_data"
    }
   ],
   "source": [
    "import matplotlib.pyplot as plt\n",
    "plt.plot( [i for i in range (len(datos))],datos)"
   ]
  }
 ],
 "metadata": {
  "kernelspec": {
   "display_name": "base",
   "language": "python",
   "name": "python3"
  },
  "language_info": {
   "codemirror_mode": {
    "name": "ipython",
    "version": 3
   },
   "file_extension": ".py",
   "mimetype": "text/x-python",
   "name": "python",
   "nbconvert_exporter": "python",
   "pygments_lexer": "ipython3",
   "version": "3.10.12"
  }
 },
 "nbformat": 4,
 "nbformat_minor": 2
}
