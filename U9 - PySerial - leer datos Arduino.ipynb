{
 "cells": [
  {
   "cell_type": "markdown",
   "metadata": {},
   "source": [
    "# Unidad 9 - Computación III\n",
    "Carrera Física Aplicada, INSPT UTN<br>\n",
    "Daiana Dominikow. Septiembre 2024."
   ]
  },
  {
   "cell_type": "markdown",
   "metadata": {},
   "source": [
    "# PySerial: leer y almacenar datos de sensor Arduino.\n",
    "<p style=\"background-color:rgba(255, 99, 71, 0.6);\">Disclaimer: esto no funciona en Google Colab. Solo pueden utilizarlo localmente. Colab procesa en la nube, no en nuestra compu, por lo tanto no tiene manera de acceder a los puertos USB locales. Recomiendo utilizar VScode con la extensión de Jupyter Notebooks para este fin</p>\n",
    "\n",
    "\n",
    "Al día de hoy deben estar ya familiarizados con nuestros amigos paquetes **Numpy**, **Pandas** y ***MatplotLib***, la santa trinidad del análisis de datos y la física computacional en Python.<br><br>\n",
    "Hoy les vengo a recordar algo visto en Computación 2 y utilizado en tantas clases de Laboratorio de Física: la placa de Arduino.<br><br>\n",
    "Recordarán también, que tomar datos con un sensor Arduino y guardarlos (en general) requería  de un trabajo manual y operativo de copiar lo impreso por serial y pegarlo en un archivo de texto. (Ojo, esto se puede automatizar con un módulo para tarjetas SD y una biblioteca hecha para tal fin, pero no disponemos de tales herramientas, y con Python podemos rabajar y luego analizar la data de manera mas sencilla).<br><br>\n",
    "\n",
    "### Pequeña introducción, qué es el Serial?\n",
    "<em> Spoiler: Haremos un repaso de Arduino en breves.</em><br><br>\n",
    "Si tienen a mano código _C_ escrito durante la cursada de Compu 2, han de encontrar que utilizábamos un método 'Serial', inicializandolo como <em>Serial.begin(9600);</em> para imprimir por consola con el método <em>Serial.println(variable)</em> dentro del loop.<br><br>\n",
    "El Serial en Arduino refiere a un puerto de comunicación, es un recurso utilizado para comunicar al Arduino y la computadora, un módulo, o incluso otro Arduino.<br> Podemos establecer comunicación con el microcontrolador a través de puertos USB, dispositivos bluetooth, etc, sabiendo cómo programar y configurar los puertos Serial de Arduino, así como recibir y ver los datos de la comunicación. <br>\n",
    "\n",
    "<strong>PySerial</strong> es una biblioteca que permite conectarse a todos los puertos serial disponibles, con ella vamos a poder primero buscar en qué puerto está conectado nuestro Arduino. Con este dato, y el BAUD (los bits por segundo que transmite el microcontrolador al serial, en general son 300, 600, 1200, 2400, 4800, 9600, 14400, 19200, 28800, 38400, 57600, o 115200) podremos conectarnos con python a la placa y obtener los datos del sensor que le querramos poner."
   ]
  },
  {
   "cell_type": "code",
   "execution_count": 1,
   "metadata": {},
   "outputs": [
    {
     "name": "stdout",
     "output_type": "stream",
     "text": [
      "Requirement already satisfied: PySerial in /usr/local/anaconda3/lib/python3.10/site-packages (3.5)\n"
     ]
    }
   ],
   "source": [
    "#para instalar PySerial, ejecutamos\n",
    "!pip install PySerial"
   ]
  },
  {
   "cell_type": "markdown",
   "metadata": {},
   "source": [
    "Lo primero es entonces, importar la biblioteca"
   ]
  },
  {
   "cell_type": "code",
   "execution_count": 2,
   "metadata": {},
   "outputs": [],
   "source": [
    "import serial #para leer la data del arduino uno"
   ]
  },
  {
   "cell_type": "markdown",
   "metadata": {},
   "source": [
    "Ahora, supongamos que quiero encontrar en qué puerto tengo conectada mi placa."
   ]
  },
  {
   "cell_type": "code",
   "execution_count": 3,
   "metadata": {},
   "outputs": [
    {
     "name": "stdout",
     "output_type": "stream",
     "text": [
      "/dev/cu.WH-CH510 - n/a\n",
      "/dev/cu.Bluetooth-Incoming-Port - n/a\n",
      "/dev/cu.usbserial-2120 - USB Serial\n"
     ]
    }
   ],
   "source": [
    "### para ver en que puerto tengo el sensor en cuestión\n",
    "import serial.tools.list_ports\n",
    "ports = list(serial.tools.list_ports.comports())\n",
    "for p in ports:\n",
    "    print(p) "
   ]
  },
  {
   "cell_type": "markdown",
   "metadata": {},
   "source": [
    "Como observarán mas arriba, mi arduino esta en el puerto '/dev/cu.usbserial-2120' al momento de ejecutar este script. El gran problema de esta biblioteca está en que desde Google Colab no es util ya que no ejecuta localmente, por lo tanto no ve los puertos de la compu. PERO, PERO PERO, sabiendo en que puesto está previamente, puedo hacerlo."
   ]
  },
  {
   "cell_type": "code",
   "execution_count": 4,
   "metadata": {},
   "outputs": [
    {
     "name": "stdout",
     "output_type": "stream",
     "text": [
      "Conectado exitosamente al puerto:/dev/cu.usbserial-2120\n"
     ]
    }
   ],
   "source": [
    "#como conecto mi script jupyter a mi placa arduino?\n",
    "\n",
    "puerto_arduino = '/dev/cu.usbserial-2120' #el puerto \n",
    "baud = 9600 #velocidad de comunicación entre la compu y el arduino\n",
    "\n",
    "arduino = serial.Serial(port=puerto_arduino, baudrate=baud)  #inicializo la conexión\n",
    "print('Conectado exitosamente al puerto:' + puerto_arduino)\n"
   ]
  },
  {
   "cell_type": "code",
   "execution_count": 5,
   "metadata": {},
   "outputs": [],
   "source": [
    "#para cerrar la conexión\n",
    "arduino.close()"
   ]
  },
  {
   "cell_type": "markdown",
   "metadata": {},
   "source": [
    "### Leer información del Serial\n",
    "<em>no se apuren, ya vamos a repasar Arduino, supongamos tenemos un sensor del año pasado armado</em>"
   ]
  },
  {
   "cell_type": "code",
   "execution_count": null,
   "metadata": {},
   "outputs": [],
   "source": [
    "def read_sensor_data():\n",
    "    data = arduino.readline().decode('utf-8').strip()\n",
    "    if data:\n",
    "        sensor_name, value = data.split(':')\n",
    "        print(f\"{sensor_name}: {value}\")\n",
    " \n",
    "## Read sensor data in a loop\n",
    "while True:\n",
    "    read_sensor_data()"
   ]
  }
 ],
 "metadata": {
  "kernelspec": {
   "display_name": "base",
   "language": "python",
   "name": "python3"
  },
  "language_info": {
   "codemirror_mode": {
    "name": "ipython",
    "version": 3
   },
   "file_extension": ".py",
   "mimetype": "text/x-python",
   "name": "python",
   "nbconvert_exporter": "python",
   "pygments_lexer": "ipython3",
   "version": "3.10.9"
  }
 },
 "nbformat": 4,
 "nbformat_minor": 2
}
