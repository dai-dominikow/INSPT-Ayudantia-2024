{
 "cells": [
  {
   "cell_type": "markdown",
   "metadata": {},
   "source": [
    "### Clase 5, Computación III\n",
    "Carrera Física Aplicada, INSPT UTN<br>\n",
    "Daiana Dominikow. 3 de Mayo 2024."
   ]
  },
  {
   "cell_type": "markdown",
   "metadata": {},
   "source": [
    "## Pandas"
   ]
  },
  {
   "cell_type": "markdown",
   "metadata": {},
   "source": [
    "En esta clase vamos a trabajar con Pandas, que es una biblioteca opensource para manipulación y análisis de datos basada en Numpy, ofrece estructuras y operaciones para manejo de tablas numéricas.</br>\n",
    "Un DataFrame es una estructura de datos relacional, es decir, se asemeja a una planilla de cálculo con columnas y filas indexadas.</br>\n",
    "Para trabajar con mucha información, a veces termina siendo conveniente trabajar con una tabla en lugar de varios arreglos como hicimos hasta el momento, ya sea para presentarla prolijamente o exportarla a un archivo de texto."
   ]
  },
  {
   "cell_type": "code",
   "execution_count": 1,
   "metadata": {},
   "outputs": [],
   "source": [
    "import pandas as pd\n",
    "import numpy as np\n",
    "import matplotlib.pyplot as plt"
   ]
  },
  {
   "cell_type": "markdown",
   "metadata": {},
   "source": [
    "Para nuestro ejemplo, supongamos que la posición de una partícula responde a la siguiente ecuación horaria:</br>\n",
    "\n",
    "$x(t)= cos(at) + bt^5 +ct^4$</br>\n",
    "\n",
    "donde</br>\n",
    "$a = 0.2 \\mathrm{s}^{-1}$</br>\n",
    "$b = 0.95 \\times 10^{-8}\\mathrm{m}$</br>\n",
    "$c = -10^{-6} \\mathrm{m}$\n"
   ]
  },
  {
   "cell_type": "code",
   "execution_count": 2,
   "metadata": {},
   "outputs": [
    {
     "data": {
      "text/plain": [
       "[<matplotlib.lines.Line2D at 0x12b4d6500>]"
      ]
     },
     "execution_count": 2,
     "metadata": {},
     "output_type": "execute_result"
    },
    {
     "data": {
      "image/png": "[encoded data removed]",
      "text/plain": [
       "<Figure size 640x480 with 1 Axes>"
      ]
     },
     "metadata": {},
     "output_type": "display_data"
    }
   ],
   "source": [
    "a = 0.2\n",
    "b = 0.95e-8\n",
    "c = -1e-6\n",
    "\n",
    "def x(t):\n",
    "    return np.cos(a*t) + b*t**5 + c*t**4\n",
    "\n",
    "#invento un intervalo de tiempo\n",
    "h = 0.1\n",
    "t = np.arange(0,100,h)\n",
    "\n",
    "plt.xlabel('Tiempo (s)')\n",
    "plt.ylabel('Posición')\n",
    "plt.plot(t,x(t))"
   ]
  },
  {
   "cell_type": "markdown",
   "metadata": {},
   "source": [
    "### Como convierto mis arreglos en un solo dataframe?"
   ]
  },
  {
   "cell_type": "code",
   "execution_count": 15,
   "metadata": {},
   "outputs": [
    {
     "name": "stdout",
     "output_type": "stream",
     "text": [
      "posicion\n",
      "[1.         0.99980001 0.99920011 0.99820053 0.99680168 0.9950041\n",
      " 0.99280851 0.99021576 0.98722688 0.98384304 0.98006559 0.975896\n",
      " 0.97133592 0.96638716 0.96105165 0.9553315  0.94922896 0.94274645\n",
      " 0.93588651 0.92865184]\n"
     ]
    }
   ],
   "source": [
    "#Veamos que al imprimir nuestros arreglos, estos se encuentran en 'linea horizontal'\n",
    "print('posicion')\n",
    "print(x(t)[0:20])"
   ]
  },
  {
   "cell_type": "code",
   "execution_count": 4,
   "metadata": {},
   "outputs": [
    {
     "name": "stdout",
     "output_type": "stream",
     "text": [
      "[[ 1.          0.        ]\n",
      " [ 0.99980001  0.1       ]\n",
      " [ 0.99920011  0.2       ]\n",
      " ...\n",
      " [-4.75977323 99.7       ]\n",
      " [-4.70434068 99.8       ]\n",
      " [-4.64839241 99.9       ]]\n"
     ]
    }
   ],
   "source": [
    "#Nosotros necesitamos pivotearlos para convertirlos en una tabla,  para tal fin, vamos a utilizar la función Transpose.\n",
    "data = np.transpose([x(t),t])\n",
    "print(data)"
   ]
  },
  {
   "cell_type": "code",
   "execution_count": 5,
   "metadata": {},
   "outputs": [
    {
     "name": "stdout",
     "output_type": "stream",
     "text": [
      "     posicion  tiempo\n",
      "0    1.000000     0.0\n",
      "1    0.999800     0.1\n",
      "2    0.999200     0.2\n",
      "3    0.998201     0.3\n",
      "4    0.996802     0.4\n",
      "..        ...     ...\n",
      "995 -4.869133    99.5\n",
      "996 -4.814700    99.6\n",
      "997 -4.759773    99.7\n",
      "998 -4.704341    99.8\n",
      "999 -4.648392    99.9\n",
      "\n",
      "[1000 rows x 2 columns]\n"
     ]
    }
   ],
   "source": [
    "#y le damos nombres a las columnas de nuestro futuro dataframe dentro de una lista\n",
    "columns = ['posicion','tiempo']\n",
    "# para crear nuestro dataframe, al cual le pasaremos como parámetros  el arreglo transpuesto y el nombre de las columnas usamos la función DataFrame\n",
    "df = pd.DataFrame(data, columns = columns)\n",
    "\n",
    "print(df)"
   ]
  },
  {
   "cell_type": "markdown",
   "metadata": {},
   "source": [
    "Otra manera de hacer lo mismo"
   ]
  },
  {
   "cell_type": "code",
   "execution_count": 6,
   "metadata": {},
   "outputs": [
    {
     "name": "stdout",
     "output_type": "stream",
     "text": [
      "     posicion  tiempo\n",
      "0    1.000000     0.0\n",
      "1    0.999800     0.1\n",
      "2    0.999200     0.2\n",
      "3    0.998201     0.3\n",
      "4    0.996802     0.4\n",
      "..        ...     ...\n",
      "995 -4.869133    99.5\n",
      "996 -4.814700    99.6\n",
      "997 -4.759773    99.7\n",
      "998 -4.704341    99.8\n",
      "999 -4.648392    99.9\n",
      "\n",
      "[1000 rows x 2 columns]\n"
     ]
    }
   ],
   "source": [
    "# y si se dan un poco de maña, podemos omitir todo lo anterior y hacer lo mismo rápidamente de la siguiente manera \n",
    "df_2 =  pd.DataFrame({\n",
    "        'posicion': x(t) ,\n",
    "        'tiempo': t\n",
    "        })\n",
    "print(df_2)\n"
   ]
  },
  {
   "cell_type": "markdown",
   "metadata": {},
   "source": [
    "Ahora bien... Cómo ploteo la info en un DataFrame?"
   ]
  },
  {
   "cell_type": "code",
   "execution_count": 7,
   "metadata": {},
   "outputs": [
    {
     "name": "stdout",
     "output_type": "stream",
     "text": [
      "0      1.000000\n",
      "1      0.999800\n",
      "2      0.999200\n",
      "3      0.998201\n",
      "4      0.996802\n",
      "         ...   \n",
      "995   -4.869133\n",
      "996   -4.814700\n",
      "997   -4.759773\n",
      "998   -4.704341\n",
      "999   -4.648392\n",
      "Name: posicion, Length: 1000, dtype: float64\n"
     ]
    }
   ],
   "source": [
    "# para traerme solo una columna del dataframe, basta con castear el nombre de la columna entre corchetes\n",
    "print(df['posicion'])"
   ]
  },
  {
   "cell_type": "code",
   "execution_count": 8,
   "metadata": {},
   "outputs": [
    {
     "data": {
      "text/plain": [
       "[<matplotlib.lines.Line2D at 0x12b736c80>]"
      ]
     },
     "execution_count": 8,
     "metadata": {},
     "output_type": "execute_result"
    },
    {
     "data": {
      "image/png": "[encoded data removed]",
      "text/plain": [
       "<Figure size 640x480 with 1 Axes>"
      ]
     },
     "metadata": {},
     "output_type": "display_data"
    }
   ],
   "source": [
    "# para plotear el gráfico que obtuvimos inicialmente entonces:\n",
    "plt.plot(df['tiempo'],df['posicion'])"
   ]
  },
  {
   "cell_type": "markdown",
   "metadata": {},
   "source": [
    "Como obtengo los valores dado un índice?"
   ]
  },
  {
   "cell_type": "code",
   "execution_count": 9,
   "metadata": {},
   "outputs": [
    {
     "data": {
      "text/plain": [
       "0.9982005318582892"
      ]
     },
     "execution_count": 9,
     "metadata": {},
     "output_type": "execute_result"
    }
   ],
   "source": [
    "#de manera similar a numpy, si quiero obtener el valor en un índice dado, por ejemplo, el valor de la posición para la 4ta fila:\n",
    "df['posicion'][3]"
   ]
  },
  {
   "cell_type": "markdown",
   "metadata": {},
   "source": [
    "#### Pandas permite filtrar los datos, para hacer esto usaremos la funcion $loc$ </br> \n",
    "\n",
    "sintaxis:</br>\n",
    "DataFrame.loc[ (condicion 1) ]</br>\n",
    "\n",
    "operador AND: </br>\n",
    "DataFrame.loc[  (condicion 1) &  (condicion 2) ]</br>\n",
    "\n",
    "operador OR:</br>\n",
    "DataFrame.loc[  (condicion 1) | (condicion 2) ]</br>"
   ]
  },
  {
   "cell_type": "code",
   "execution_count": 10,
   "metadata": {},
   "outputs": [
    {
     "data": {
      "text/html": [
       "<div>\n",
       "<style scoped>\n",
       "    .dataframe tbody tr th:only-of-type {\n",
       "        vertical-align: middle;\n",
       "    }\n",
       "\n",
       "    .dataframe tbody tr th {\n",
       "        vertical-align: top;\n",
       "    }\n",
       "\n",
       "    .dataframe thead th {\n",
       "        text-align: right;\n",
       "    }\n",
       "</style>\n",
       "<table border=\"1\" class=\"dataframe\">\n",
       "  <thead>\n",
       "    <tr style=\"text-align: right;\">\n",
       "      <th></th>\n",
       "      <th>posicion</th>\n",
       "      <th>tiempo</th>\n",
       "    </tr>\n",
       "  </thead>\n",
       "  <tbody>\n",
       "    <tr>\n",
       "      <th>0</th>\n",
       "      <td>1.000000</td>\n",
       "      <td>0.0</td>\n",
       "    </tr>\n",
       "    <tr>\n",
       "      <th>1</th>\n",
       "      <td>0.999800</td>\n",
       "      <td>0.1</td>\n",
       "    </tr>\n",
       "    <tr>\n",
       "      <th>2</th>\n",
       "      <td>0.999200</td>\n",
       "      <td>0.2</td>\n",
       "    </tr>\n",
       "    <tr>\n",
       "      <th>3</th>\n",
       "      <td>0.998201</td>\n",
       "      <td>0.3</td>\n",
       "    </tr>\n",
       "    <tr>\n",
       "      <th>4</th>\n",
       "      <td>0.996802</td>\n",
       "      <td>0.4</td>\n",
       "    </tr>\n",
       "    <tr>\n",
       "      <th>...</th>\n",
       "      <td>...</td>\n",
       "      <td>...</td>\n",
       "    </tr>\n",
       "    <tr>\n",
       "      <th>295</th>\n",
       "      <td>0.382387</td>\n",
       "      <td>29.5</td>\n",
       "    </tr>\n",
       "    <tr>\n",
       "      <th>296</th>\n",
       "      <td>0.382979</td>\n",
       "      <td>29.6</td>\n",
       "    </tr>\n",
       "    <tr>\n",
       "      <th>297</th>\n",
       "      <td>0.383141</td>\n",
       "      <td>29.7</td>\n",
       "    </tr>\n",
       "    <tr>\n",
       "      <th>298</th>\n",
       "      <td>0.382870</td>\n",
       "      <td>29.8</td>\n",
       "    </tr>\n",
       "    <tr>\n",
       "      <th>299</th>\n",
       "      <td>0.382165</td>\n",
       "      <td>29.9</td>\n",
       "    </tr>\n",
       "  </tbody>\n",
       "</table>\n",
       "<p>128 rows × 2 columns</p>\n",
       "</div>"
      ],
      "text/plain": [
       "     posicion  tiempo\n",
       "0    1.000000     0.0\n",
       "1    0.999800     0.1\n",
       "2    0.999200     0.2\n",
       "3    0.998201     0.3\n",
       "4    0.996802     0.4\n",
       "..        ...     ...\n",
       "295  0.382387    29.5\n",
       "296  0.382979    29.6\n",
       "297  0.383141    29.7\n",
       "298  0.382870    29.8\n",
       "299  0.382165    29.9\n",
       "\n",
       "[128 rows x 2 columns]"
      ]
     },
     "execution_count": 10,
     "metadata": {},
     "output_type": "execute_result"
    }
   ],
   "source": [
    "#Suponiendo que quiero otro dataframe que contenta solo los valores de posición positivos, dentro de los primeros 30 segundos\n",
    "df_3 = df.loc[ (df['posicion'] > 0) & (df['tiempo'] < 30) ]\n",
    "df_3"
   ]
  },
  {
   "cell_type": "markdown",
   "metadata": {},
   "source": [
    "Al mismo tiempo, permite guardar la info en distintos formatos, por simplicidad, usaremos csv y dejaremos el archivo en el directorio donde nuestro código se encuentra alojado"
   ]
  },
  {
   "cell_type": "code",
   "execution_count": 11,
   "metadata": {},
   "outputs": [],
   "source": [
    "#la función recibe como parámetro el directorio a dejar el archivo, y si queremos o no que las filas conserven el indice, es decir, que se guarde en otra columna\n",
    "nombre_archivo = './clase5_data_ejemplo.csv'\n",
    "df.to_csv(nombre_archivo, index=False)"
   ]
  },
  {
   "cell_type": "markdown",
   "metadata": {},
   "source": [
    "Para levantar un archivo el procedimiento es muy similar"
   ]
  },
  {
   "cell_type": "code",
   "execution_count": 12,
   "metadata": {},
   "outputs": [
    {
     "data": {
      "text/html": [
       "<div>\n",
       "<style scoped>\n",
       "    .dataframe tbody tr th:only-of-type {\n",
       "        vertical-align: middle;\n",
       "    }\n",
       "\n",
       "    .dataframe tbody tr th {\n",
       "        vertical-align: top;\n",
       "    }\n",
       "\n",
       "    .dataframe thead th {\n",
       "        text-align: right;\n",
       "    }\n",
       "</style>\n",
       "<table border=\"1\" class=\"dataframe\">\n",
       "  <thead>\n",
       "    <tr style=\"text-align: right;\">\n",
       "      <th></th>\n",
       "      <th>posicion</th>\n",
       "      <th>tiempo</th>\n",
       "    </tr>\n",
       "  </thead>\n",
       "  <tbody>\n",
       "    <tr>\n",
       "      <th>0</th>\n",
       "      <td>1.000000</td>\n",
       "      <td>0.0</td>\n",
       "    </tr>\n",
       "    <tr>\n",
       "      <th>1</th>\n",
       "      <td>0.999800</td>\n",
       "      <td>0.1</td>\n",
       "    </tr>\n",
       "    <tr>\n",
       "      <th>2</th>\n",
       "      <td>0.999200</td>\n",
       "      <td>0.2</td>\n",
       "    </tr>\n",
       "    <tr>\n",
       "      <th>3</th>\n",
       "      <td>0.998201</td>\n",
       "      <td>0.3</td>\n",
       "    </tr>\n",
       "    <tr>\n",
       "      <th>4</th>\n",
       "      <td>0.996802</td>\n",
       "      <td>0.4</td>\n",
       "    </tr>\n",
       "    <tr>\n",
       "      <th>...</th>\n",
       "      <td>...</td>\n",
       "      <td>...</td>\n",
       "    </tr>\n",
       "    <tr>\n",
       "      <th>995</th>\n",
       "      <td>-4.869133</td>\n",
       "      <td>99.5</td>\n",
       "    </tr>\n",
       "    <tr>\n",
       "      <th>996</th>\n",
       "      <td>-4.814700</td>\n",
       "      <td>99.6</td>\n",
       "    </tr>\n",
       "    <tr>\n",
       "      <th>997</th>\n",
       "      <td>-4.759773</td>\n",
       "      <td>99.7</td>\n",
       "    </tr>\n",
       "    <tr>\n",
       "      <th>998</th>\n",
       "      <td>-4.704341</td>\n",
       "      <td>99.8</td>\n",
       "    </tr>\n",
       "    <tr>\n",
       "      <th>999</th>\n",
       "      <td>-4.648392</td>\n",
       "      <td>99.9</td>\n",
       "    </tr>\n",
       "  </tbody>\n",
       "</table>\n",
       "<p>1000 rows × 2 columns</p>\n",
       "</div>"
      ],
      "text/plain": [
       "     posicion  tiempo\n",
       "0    1.000000     0.0\n",
       "1    0.999800     0.1\n",
       "2    0.999200     0.2\n",
       "3    0.998201     0.3\n",
       "4    0.996802     0.4\n",
       "..        ...     ...\n",
       "995 -4.869133    99.5\n",
       "996 -4.814700    99.6\n",
       "997 -4.759773    99.7\n",
       "998 -4.704341    99.8\n",
       "999 -4.648392    99.9\n",
       "\n",
       "[1000 rows x 2 columns]"
      ]
     },
     "execution_count": 12,
     "metadata": {},
     "output_type": "execute_result"
    }
   ],
   "source": [
    "df_4= pd.read_csv(nombre_archivo)\n",
    "df_4"
   ]
  },
  {
   "cell_type": "markdown",
   "metadata": {},
   "source": [
    "### Cómo guardo el resultado de una operación en una columna?\n",
    "Para crear una nueva columna, basta con asignarle un nombre y a qué operación corresponde:"
   ]
  },
  {
   "cell_type": "code",
   "execution_count": 13,
   "metadata": {},
   "outputs": [
    {
     "data": {
      "text/plain": [
       "[<matplotlib.lines.Line2D at 0x12b7dd540>]"
      ]
     },
     "execution_count": 13,
     "metadata": {},
     "output_type": "execute_result"
    },
    {
     "data": {
      "image/png": "[encoded data removed]",
      "text/plain": [
       "<Figure size 640x480 with 1 Axes>"
      ]
     },
     "metadata": {},
     "output_type": "display_data"
    }
   ],
   "source": [
    "def derivada(t):\n",
    "    return   ( x(t+h) - x(t-h) ) / (2*h)\n",
    "\n",
    "df['velocidad'] = derivada( df['tiempo'] )\n",
    "\n",
    "plt.plot(df['tiempo'],df['velocidad'])"
   ]
  },
  {
   "cell_type": "markdown",
   "metadata": {},
   "source": [
    "### Ahora si, a hacer la guía de Pandas! :)"
   ]
  },
  {
   "cell_type": "code",
   "execution_count": 14,
   "metadata": {},
   "outputs": [],
   "source": [
    "import os\n",
    "os.remove(nombre_archivo)"
   ]
  }
 ],
 "metadata": {
  "kernelspec": {
   "display_name": "base",
   "language": "python",
   "name": "python3"
  },
  "language_info": {
   "codemirror_mode": {
    "name": "ipython",
    "version": 3
   },
   "file_extension": ".py",
   "mimetype": "text/x-python",
   "name": "python",
   "nbconvert_exporter": "python",
   "pygments_lexer": "ipython3",
   "version": "3.10.9"
  }
 },
 "nbformat": 4,
 "nbformat_minor": 2
}
