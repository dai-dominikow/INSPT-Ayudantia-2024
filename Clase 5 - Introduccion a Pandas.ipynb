{
 "cells": [
  {
   "cell_type": "markdown",
   "metadata": {},
   "source": [
    "### Clase 5, Computación III\n",
    "Carrera Física Aplicada, INSPT UTN<br>\n",
    "Daiana Dominikow. 3 de Mayo 2024."
   ]
  },
  {
   "cell_type": "markdown",
   "metadata": {},
   "source": [
    "## Pandas"
   ]
  },
  {
   "cell_type": "markdown",
   "metadata": {},
   "source": [
    "En esta clase vamos a trabajar con Pandas, que es una biblioteca opensource para manipulación y análisis de datos basada en Numpy, ofrece estructuras y operaciones para manejo de tablas numéricas.</br>\n",
    "Un DataFrame es una estructura de datos relacional, es decir, se asemeja a una planilla de cálculo con columnas y filas indexadas.</br>\n",
    "Para trabajar con mucha información, a veces termina siendo conveniente trabajar con una tabla en lugar de varios arreglos como hicimos hasta el momento, ya sea para presentarla prolijamente o exportarla a un archivo de texto."
   ]
  },
  {
   "cell_type": "code",
   "execution_count": 1,
   "metadata": {},
   "outputs": [],
   "source": [
    "import pandas as pd\n",
    "import numpy as np\n",
    "import matplotlib.pyplot as plt"
   ]
  },
  {
   "cell_type": "markdown",
   "metadata": {},
   "source": [
    "Para nuestro ejemplo, supongamos que la posición de una partícula responde a la siguiente ecuación horaria:</br>\n",
    "\n",
    "$x(t)= cos(at) + bt^5 +ct^4$</br>\n",
    "\n",
    "donde</br>\n",
    "$a = 0.2 \\mathrm{s}^{-1}$</br>\n",
    "$b = 0.95 \\times 10^{-8}\\mathrm{m}$</br>\n",
    "$c = -10^{-6} \\mathrm{m}$\n"
   ]
  },
  {
   "cell_type": "code",
   "execution_count": 2,
   "metadata": {},
   "outputs": [
    {
     "data": {
      "text/plain": [
       "[<matplotlib.lines.Line2D at 0x25fd2a29df0>]"
      ]
     },
     "execution_count": 2,
     "metadata": {},
     "output_type": "execute_result"
    },
    {
     "data": {
      "image/png": "[encoded data removed]",
      "text/plain": [
       "<Figure size 432x288 with 1 Axes>"
      ]
     },
     "metadata": {
      "needs_background": "light"
     },
     "output_type": "display_data"
    }
   ],
   "source": [
    "a = 0.2\n",
    "b = 0.95e-8\n",
    "c = -1e-6\n",
    "\n",
    "def x(t):\n",
    "    return np.cos(a*t) + b*t**5 + c*t**4\n",
    "\n",
    "#invento un intervalo de tiempo\n",
    "h = 0.1\n",
    "t = np.arange(0,100,h)\n",
    "\n",
    "plt.xlabel('Tiempo (s)')\n",
    "plt.ylabel('Posición')\n",
    "plt.plot(t,x(t))"
   ]
  },
  {
   "cell_type": "markdown",
   "metadata": {},
   "source": [
    "### Como convierto mis arreglos en un solo dataframe?"
   ]
  },
  {
   "cell_type": "code",
   "execution_count": 3,
   "metadata": {},
   "outputs": [
    {
     "name": "stdout",
     "output_type": "stream",
     "text": [
      "posicion\n",
      "[1.         0.99980001 0.99920011 0.99820053 0.99680168 0.9950041\n",
      " 0.99280851 0.99021576 0.98722688 0.98384304 0.98006559 0.975896\n",
      " 0.97133592 0.96638716 0.96105165 0.9553315  0.94922896 0.94274645\n",
      " 0.93588651 0.92865184]\n"
     ]
    }
   ],
   "source": [
    "#Veamos que al imprimir nuestros arreglos, estos se encuentran en 'linea horizontal'\n",
    "print('posicion')\n",
    "print(x(t)[0:20])"
   ]
  },
  {
   "cell_type": "code",
   "execution_count": 4,
   "metadata": {},
   "outputs": [
    {
     "name": "stdout",
     "output_type": "stream",
     "text": [
      "[[ 1.          0.        ]\n",
      " [ 0.99980001  0.1       ]\n",
      " [ 0.99920011  0.2       ]\n",
      " ...\n",
      " [-4.75977323 99.7       ]\n",
      " [-4.70434068 99.8       ]\n",
      " [-4.64839241 99.9       ]]\n"
     ]
    }
   ],
   "source": [
    "#Nosotros necesitamos pivotearlos para convertirlos en una tabla,  para tal fin, vamos a utilizar la función Transpose.\n",
    "data = np.transpose([x(t),t])\n",
    "print(data)"
   ]
  },
  {
   "cell_type": "code",
   "execution_count": 5,
   "metadata": {},
   "outputs": [
    {
     "name": "stdout",
     "output_type": "stream",
     "text": [
      "     posicion  tiempo\n",
      "0    1.000000     0.0\n",
      "1    0.999800     0.1\n",
      "2    0.999200     0.2\n",
      "3    0.998201     0.3\n",
      "4    0.996802     0.4\n",
      "..        ...     ...\n",
      "995 -4.869133    99.5\n",
      "996 -4.814700    99.6\n",
      "997 -4.759773    99.7\n",
      "998 -4.704341    99.8\n",
      "999 -4.648392    99.9\n",
      "\n",
      "[1000 rows x 2 columns]\n"
     ]
    }
   ],
   "source": [
    "#y le damos nombres a las columnas de nuestro futuro dataframe dentro de una lista\n",
    "columns = ['posicion','tiempo']\n",
    "# para crear nuestro dataframe, al cual le pasaremos como parámetros  el arreglo transpuesto y el nombre de las columnas usamos la función DataFrame\n",
    "df = pd.DataFrame(data, columns = columns)\n",
    "\n",
    "print(df)"
   ]
  },
  {
   "cell_type": "markdown",
   "metadata": {},
   "source": [
    "Otra manera de hacer lo mismo"
   ]
  },
  {
   "cell_type": "code",
   "execution_count": 6,
   "metadata": {},
   "outputs": [
    {
     "name": "stdout",
     "output_type": "stream",
     "text": [
      "     posicion  tiempo\n",
      "0    1.000000     0.0\n",
      "1    0.999800     0.1\n",
      "2    0.999200     0.2\n",
      "3    0.998201     0.3\n",
      "4    0.996802     0.4\n",
      "..        ...     ...\n",
      "995 -4.869133    99.5\n",
      "996 -4.814700    99.6\n",
      "997 -4.759773    99.7\n",
      "998 -4.704341    99.8\n",
      "999 -4.648392    99.9\n",
      "\n",
      "[1000 rows x 2 columns]\n"
     ]
    }
   ],
   "source": [
    "# y si se dan un poco de maña, podemos omitir todo lo anterior y hacer lo mismo rápidamente de la siguiente manera \n",
    "df_2 =  pd.DataFrame({\n",
    "        'posicion': x(t) ,\n",
    "        'tiempo': t\n",
    "        })\n",
    "print(df_2)\n"
   ]
  },
  {
   "cell_type": "code",
   "execution_count": 19,
   "metadata": {},
   "outputs": [
    {
     "data": {
      "text/html": [
       "<div>\n",
       "<style scoped>\n",
       "    .dataframe tbody tr th:only-of-type {\n",
       "        vertical-align: middle;\n",
       "    }\n",
       "\n",
       "    .dataframe tbody tr th {\n",
       "        vertical-align: top;\n",
       "    }\n",
       "\n",
       "    .dataframe thead th {\n",
       "        text-align: right;\n",
       "    }\n",
       "</style>\n",
       "<table border=\"1\" class=\"dataframe\">\n",
       "  <thead>\n",
       "    <tr style=\"text-align: right;\">\n",
       "      <th></th>\n",
       "      <th>Month</th>\n",
       "      <th>Day</th>\n",
       "      <th>Year</th>\n",
       "      <th>AvgTemperature</th>\n",
       "    </tr>\n",
       "  </thead>\n",
       "  <tbody>\n",
       "    <tr>\n",
       "      <th>count</th>\n",
       "      <td>2.906327e+06</td>\n",
       "      <td>2.906327e+06</td>\n",
       "      <td>2.906327e+06</td>\n",
       "      <td>2.906327e+06</td>\n",
       "    </tr>\n",
       "    <tr>\n",
       "      <th>mean</th>\n",
       "      <td>6.469163e+00</td>\n",
       "      <td>1.571682e+01</td>\n",
       "      <td>2.006624e+03</td>\n",
       "      <td>5.600492e+01</td>\n",
       "    </tr>\n",
       "    <tr>\n",
       "      <th>std</th>\n",
       "      <td>3.456489e+00</td>\n",
       "      <td>8.800534e+00</td>\n",
       "      <td>2.338226e+01</td>\n",
       "      <td>3.212359e+01</td>\n",
       "    </tr>\n",
       "    <tr>\n",
       "      <th>min</th>\n",
       "      <td>1.000000e+00</td>\n",
       "      <td>0.000000e+00</td>\n",
       "      <td>2.000000e+02</td>\n",
       "      <td>-9.900000e+01</td>\n",
       "    </tr>\n",
       "    <tr>\n",
       "      <th>25%</th>\n",
       "      <td>3.000000e+00</td>\n",
       "      <td>8.000000e+00</td>\n",
       "      <td>2.001000e+03</td>\n",
       "      <td>4.580000e+01</td>\n",
       "    </tr>\n",
       "    <tr>\n",
       "      <th>50%</th>\n",
       "      <td>6.000000e+00</td>\n",
       "      <td>1.600000e+01</td>\n",
       "      <td>2.007000e+03</td>\n",
       "      <td>6.250000e+01</td>\n",
       "    </tr>\n",
       "    <tr>\n",
       "      <th>75%</th>\n",
       "      <td>9.000000e+00</td>\n",
       "      <td>2.300000e+01</td>\n",
       "      <td>2.013000e+03</td>\n",
       "      <td>7.550000e+01</td>\n",
       "    </tr>\n",
       "    <tr>\n",
       "      <th>max</th>\n",
       "      <td>1.200000e+01</td>\n",
       "      <td>3.100000e+01</td>\n",
       "      <td>2.020000e+03</td>\n",
       "      <td>1.100000e+02</td>\n",
       "    </tr>\n",
       "  </tbody>\n",
       "</table>\n",
       "</div>"
      ],
      "text/plain": [
       "              Month           Day          Year  AvgTemperature\n",
       "count  2.906327e+06  2.906327e+06  2.906327e+06    2.906327e+06\n",
       "mean   6.469163e+00  1.571682e+01  2.006624e+03    5.600492e+01\n",
       "std    3.456489e+00  8.800534e+00  2.338226e+01    3.212359e+01\n",
       "min    1.000000e+00  0.000000e+00  2.000000e+02   -9.900000e+01\n",
       "25%    3.000000e+00  8.000000e+00  2.001000e+03    4.580000e+01\n",
       "50%    6.000000e+00  1.600000e+01  2.007000e+03    6.250000e+01\n",
       "75%    9.000000e+00  2.300000e+01  2.013000e+03    7.550000e+01\n",
       "max    1.200000e+01  3.100000e+01  2.020000e+03    1.100000e+02"
      ]
     },
     "execution_count": 19,
     "metadata": {},
     "output_type": "execute_result"
    }
   ],
   "source": [
    "#para ver aproximadamente como se distribuyen los valores numérivos dentro de un DataFrame (omite otros tipos de dato), podemos llamar a la función\n",
    "df.describe()"
   ]
  },
  {
   "cell_type": "markdown",
   "metadata": {},
   "source": [
    "Ahora bien... Cómo ploteo la info en un DataFrame?"
   ]
  },
  {
   "cell_type": "code",
   "execution_count": 7,
   "metadata": {},
   "outputs": [
    {
     "name": "stdout",
     "output_type": "stream",
     "text": [
      "0      1.000000\n",
      "1      0.999800\n",
      "2      0.999200\n",
      "3      0.998201\n",
      "4      0.996802\n",
      "         ...   \n",
      "995   -4.869133\n",
      "996   -4.814700\n",
      "997   -4.759773\n",
      "998   -4.704341\n",
      "999   -4.648392\n",
      "Name: posicion, Length: 1000, dtype: float64\n"
     ]
    }
   ],
   "source": [
    "# para traerme solo una columna del dataframe, basta con castear el nombre de la columna entre corchetes\n",
    "print(df['posicion'])"
   ]
  },
  {
   "cell_type": "code",
   "execution_count": 8,
   "metadata": {},
   "outputs": [
    {
     "data": {
      "text/plain": [
       "[<matplotlib.lines.Line2D at 0x25fd2a71670>]"
      ]
     },
     "execution_count": 8,
     "metadata": {},
     "output_type": "execute_result"
    },
    {
     "data": {
      "image/png": "[encoded data removed]",
      "text/plain": [
       "<Figure size 432x288 with 1 Axes>"
      ]
     },
     "metadata": {
      "needs_background": "light"
     },
     "output_type": "display_data"
    }
   ],
   "source": [
    "# para plotear el gráfico que obtuvimos inicialmente entonces:\n",
    "plt.plot(df['tiempo'],df['posicion'])"
   ]
  },
  {
   "cell_type": "markdown",
   "metadata": {},
   "source": [
    "Como obtengo los valores dado un índice?"
   ]
  },
  {
   "cell_type": "code",
   "execution_count": 9,
   "metadata": {},
   "outputs": [
    {
     "data": {
      "text/plain": [
       "0.9982005318582892"
      ]
     },
     "execution_count": 9,
     "metadata": {},
     "output_type": "execute_result"
    }
   ],
   "source": [
    "#de manera similar a numpy, si quiero obtener el valor en un índice dado, por ejemplo, el valor de la posición para la 4ta fila:\n",
    "df['posicion'][3]"
   ]
  },
  {
   "cell_type": "markdown",
   "metadata": {},
   "source": [
    "#### Pandas permite filtrar los datos, para hacer esto usaremos la funcion $loc$ </br> \n",
    "\n",
    "sintaxis:</br>\n",
    "DataFrame.loc[ (condicion 1) ]</br>\n",
    "\n",
    "operador AND: </br>\n",
    "DataFrame.loc[  (condicion 1) &  (condicion 2) ]</br>\n",
    "\n",
    "operador OR:</br>\n",
    "DataFrame.loc[  (condicion 1) | (condicion 2) ]</br>"
   ]
  },
  {
   "cell_type": "code",
   "execution_count": 10,
   "metadata": {},
   "outputs": [
    {
     "data": {
      "text/html": [
       "<div>\n",
       "<style scoped>\n",
       "    .dataframe tbody tr th:only-of-type {\n",
       "        vertical-align: middle;\n",
       "    }\n",
       "\n",
       "    .dataframe tbody tr th {\n",
       "        vertical-align: top;\n",
       "    }\n",
       "\n",
       "    .dataframe thead th {\n",
       "        text-align: right;\n",
       "    }\n",
       "</style>\n",
       "<table border=\"1\" class=\"dataframe\">\n",
       "  <thead>\n",
       "    <tr style=\"text-align: right;\">\n",
       "      <th></th>\n",
       "      <th>posicion</th>\n",
       "      <th>tiempo</th>\n",
       "    </tr>\n",
       "  </thead>\n",
       "  <tbody>\n",
       "    <tr>\n",
       "      <th>0</th>\n",
       "      <td>1.000000</td>\n",
       "      <td>0.0</td>\n",
       "    </tr>\n",
       "    <tr>\n",
       "      <th>1</th>\n",
       "      <td>0.999800</td>\n",
       "      <td>0.1</td>\n",
       "    </tr>\n",
       "    <tr>\n",
       "      <th>2</th>\n",
       "      <td>0.999200</td>\n",
       "      <td>0.2</td>\n",
       "    </tr>\n",
       "    <tr>\n",
       "      <th>3</th>\n",
       "      <td>0.998201</td>\n",
       "      <td>0.3</td>\n",
       "    </tr>\n",
       "    <tr>\n",
       "      <th>4</th>\n",
       "      <td>0.996802</td>\n",
       "      <td>0.4</td>\n",
       "    </tr>\n",
       "    <tr>\n",
       "      <th>...</th>\n",
       "      <td>...</td>\n",
       "      <td>...</td>\n",
       "    </tr>\n",
       "    <tr>\n",
       "      <th>295</th>\n",
       "      <td>0.382387</td>\n",
       "      <td>29.5</td>\n",
       "    </tr>\n",
       "    <tr>\n",
       "      <th>296</th>\n",
       "      <td>0.382979</td>\n",
       "      <td>29.6</td>\n",
       "    </tr>\n",
       "    <tr>\n",
       "      <th>297</th>\n",
       "      <td>0.383141</td>\n",
       "      <td>29.7</td>\n",
       "    </tr>\n",
       "    <tr>\n",
       "      <th>298</th>\n",
       "      <td>0.382870</td>\n",
       "      <td>29.8</td>\n",
       "    </tr>\n",
       "    <tr>\n",
       "      <th>299</th>\n",
       "      <td>0.382165</td>\n",
       "      <td>29.9</td>\n",
       "    </tr>\n",
       "  </tbody>\n",
       "</table>\n",
       "<p>128 rows × 2 columns</p>\n",
       "</div>"
      ],
      "text/plain": [
       "     posicion  tiempo\n",
       "0    1.000000     0.0\n",
       "1    0.999800     0.1\n",
       "2    0.999200     0.2\n",
       "3    0.998201     0.3\n",
       "4    0.996802     0.4\n",
       "..        ...     ...\n",
       "295  0.382387    29.5\n",
       "296  0.382979    29.6\n",
       "297  0.383141    29.7\n",
       "298  0.382870    29.8\n",
       "299  0.382165    29.9\n",
       "\n",
       "[128 rows x 2 columns]"
      ]
     },
     "execution_count": 10,
     "metadata": {},
     "output_type": "execute_result"
    }
   ],
   "source": [
    "#Suponiendo que quiero otro dataframe que contenta solo los valores de posición positivos, dentro de los primeros 30 segundos\n",
    "df_3 = df.loc[ (df['posicion'] > 0) & (df['tiempo'] < 30) ]\n",
    "df_3"
   ]
  },
  {
   "cell_type": "markdown",
   "metadata": {},
   "source": [
    "Al mismo tiempo, permite guardar la info en distintos formatos, por simplicidad, usaremos csv y dejaremos el archivo en el directorio donde nuestro código se encuentra alojado"
   ]
  },
  {
   "cell_type": "code",
   "execution_count": 11,
   "metadata": {},
   "outputs": [],
   "source": [
    "#la función recibe como parámetro el directorio a dejar el archivo, y si queremos o no que las filas conserven el indice, es decir, que se guarde en otra columna\n",
    "nombre_archivo = './clase5_data_ejemplo.csv'\n",
    "df.to_csv(nombre_archivo, index=False)"
   ]
  },
  {
   "cell_type": "markdown",
   "metadata": {},
   "source": [
    "Para levantar un archivo el procedimiento es muy similar"
   ]
  },
  {
   "cell_type": "code",
   "execution_count": 12,
   "metadata": {},
   "outputs": [
    {
     "data": {
      "text/html": [
       "<div>\n",
       "<style scoped>\n",
       "    .dataframe tbody tr th:only-of-type {\n",
       "        vertical-align: middle;\n",
       "    }\n",
       "\n",
       "    .dataframe tbody tr th {\n",
       "        vertical-align: top;\n",
       "    }\n",
       "\n",
       "    .dataframe thead th {\n",
       "        text-align: right;\n",
       "    }\n",
       "</style>\n",
       "<table border=\"1\" class=\"dataframe\">\n",
       "  <thead>\n",
       "    <tr style=\"text-align: right;\">\n",
       "      <th></th>\n",
       "      <th>posicion</th>\n",
       "      <th>tiempo</th>\n",
       "    </tr>\n",
       "  </thead>\n",
       "  <tbody>\n",
       "    <tr>\n",
       "      <th>0</th>\n",
       "      <td>1.000000</td>\n",
       "      <td>0.0</td>\n",
       "    </tr>\n",
       "    <tr>\n",
       "      <th>1</th>\n",
       "      <td>0.999800</td>\n",
       "      <td>0.1</td>\n",
       "    </tr>\n",
       "    <tr>\n",
       "      <th>2</th>\n",
       "      <td>0.999200</td>\n",
       "      <td>0.2</td>\n",
       "    </tr>\n",
       "    <tr>\n",
       "      <th>3</th>\n",
       "      <td>0.998201</td>\n",
       "      <td>0.3</td>\n",
       "    </tr>\n",
       "    <tr>\n",
       "      <th>4</th>\n",
       "      <td>0.996802</td>\n",
       "      <td>0.4</td>\n",
       "    </tr>\n",
       "  </tbody>\n",
       "</table>\n",
       "</div>"
      ],
      "text/plain": [
       "   posicion  tiempo\n",
       "0  1.000000     0.0\n",
       "1  0.999800     0.1\n",
       "2  0.999200     0.2\n",
       "3  0.998201     0.3\n",
       "4  0.996802     0.4"
      ]
     },
     "execution_count": 12,
     "metadata": {},
     "output_type": "execute_result"
    }
   ],
   "source": [
    "df_4= pd.read_csv(nombre_archivo)\n",
    "df_4.head()"
   ]
  },
  {
   "cell_type": "code",
   "execution_count": null,
   "metadata": {},
   "outputs": [],
   "source": [
    "#para borrar el archivo\n",
    "import os\n",
    "os.remove(nombre_archivo)"
   ]
  },
  {
   "cell_type": "markdown",
   "metadata": {},
   "source": [
    "### Cómo guardo el resultado de una operación en una columna?\n",
    "Para crear una nueva columna, basta con asignarle un nombre y a qué operación corresponde:"
   ]
  },
  {
   "cell_type": "code",
   "execution_count": 13,
   "metadata": {},
   "outputs": [
    {
     "data": {
      "text/plain": [
       "[<matplotlib.lines.Line2D at 0x25fd3be09d0>]"
      ]
     },
     "execution_count": 13,
     "metadata": {},
     "output_type": "execute_result"
    },
    {
     "data": {
      "image/png": "[encoded data removed]",
      "text/plain": [
       "<Figure size 432x288 with 1 Axes>"
      ]
     },
     "metadata": {
      "needs_background": "light"
     },
     "output_type": "display_data"
    }
   ],
   "source": [
    "def derivada(t):\n",
    "    return   ( x(t+h) - x(t-h) ) / (2*h)\n",
    "\n",
    "df['velocidad'] = derivada( df['tiempo'] )\n",
    "\n",
    "plt.plot(df['tiempo'],df['velocidad'])"
   ]
  },
  {
   "cell_type": "markdown",
   "metadata": {},
   "source": [
    "### Finalmente, cómo agrupo la información?\n",
    "Supongamos que nuestro dataframe está desagregado en varias columnas, por ejemplo año, país, temperatura promedio. Y nosotros queremos plotear la temperatura promedio por país."
   ]
  },
  {
   "cell_type": "code",
   "execution_count": 36,
   "metadata": {},
   "outputs": [],
   "source": [
    "#levantamos el set de datos\n",
    "df_temperaturas = pd.read_csv('.\\Recursos\\TP_Pandas\\serie_tiempo_temperaturas.csv')"
   ]
  },
  {
   "cell_type": "code",
   "execution_count": 37,
   "metadata": {},
   "outputs": [
    {
     "data": {
      "text/html": [
       "<div>\n",
       "<style scoped>\n",
       "    .dataframe tbody tr th:only-of-type {\n",
       "        vertical-align: middle;\n",
       "    }\n",
       "\n",
       "    .dataframe tbody tr th {\n",
       "        vertical-align: top;\n",
       "    }\n",
       "\n",
       "    .dataframe thead th {\n",
       "        text-align: right;\n",
       "    }\n",
       "</style>\n",
       "<table border=\"1\" class=\"dataframe\">\n",
       "  <thead>\n",
       "    <tr style=\"text-align: right;\">\n",
       "      <th></th>\n",
       "      <th>Year</th>\n",
       "      <th>Country</th>\n",
       "      <th>City</th>\n",
       "      <th>AvgTemperature</th>\n",
       "    </tr>\n",
       "  </thead>\n",
       "  <tbody>\n",
       "    <tr>\n",
       "      <th>0</th>\n",
       "      <td>1995</td>\n",
       "      <td>Argentina</td>\n",
       "      <td>Buenos Aires</td>\n",
       "      <td>61.701370</td>\n",
       "    </tr>\n",
       "    <tr>\n",
       "      <th>1</th>\n",
       "      <td>1995</td>\n",
       "      <td>Bahamas</td>\n",
       "      <td>Nassau</td>\n",
       "      <td>76.628493</td>\n",
       "    </tr>\n",
       "    <tr>\n",
       "      <th>2</th>\n",
       "      <td>1995</td>\n",
       "      <td>Barbados</td>\n",
       "      <td>Bridgetown</td>\n",
       "      <td>80.766849</td>\n",
       "    </tr>\n",
       "    <tr>\n",
       "      <th>3</th>\n",
       "      <td>1995</td>\n",
       "      <td>Belize</td>\n",
       "      <td>Belize City</td>\n",
       "      <td>-44.337190</td>\n",
       "    </tr>\n",
       "    <tr>\n",
       "      <th>4</th>\n",
       "      <td>1995</td>\n",
       "      <td>Bermuda</td>\n",
       "      <td>Hamilton</td>\n",
       "      <td>69.420548</td>\n",
       "    </tr>\n",
       "  </tbody>\n",
       "</table>\n",
       "</div>"
      ],
      "text/plain": [
       "   Year    Country          City  AvgTemperature\n",
       "0  1995  Argentina  Buenos Aires       61.701370\n",
       "1  1995    Bahamas        Nassau       76.628493\n",
       "2  1995   Barbados    Bridgetown       80.766849\n",
       "3  1995     Belize   Belize City      -44.337190\n",
       "4  1995    Bermuda      Hamilton       69.420548"
      ]
     },
     "execution_count": 37,
     "metadata": {},
     "output_type": "execute_result"
    }
   ],
   "source": [
    "#y le pegamos una miradita para ver de que se trata\n",
    "df_temperaturas.head()"
   ]
  },
  {
   "cell_type": "code",
   "execution_count": 67,
   "metadata": {},
   "outputs": [
    {
     "data": {
      "text/plain": [
       "array(['Argentina', 'Bahamas', 'Barbados', 'Belize', 'Bermuda', 'Bolivia',\n",
       "       'Brazil', 'Colombia', 'Costa Rica', 'Cuba', 'Dominican Republic',\n",
       "       'Equador', 'Guatemala', 'Guyana', 'Haiti', 'Honduras', 'Nicaragua',\n",
       "       'Panama', 'Peru', 'Suriname', 'Uruguay', 'Venezuela'], dtype=object)"
      ]
     },
     "execution_count": 67,
     "metadata": {},
     "output_type": "execute_result"
    }
   ],
   "source": [
    "#si quisiera por ejemplo ver los distintos valores que puede tomar un campo string\n",
    "df_temperaturas.Country.unique()"
   ]
  },
  {
   "cell_type": "markdown",
   "metadata": {},
   "source": [
    "A veces para ver gráficamente la información que tenemos en un dataframe, más que un gráfico de lineas nos sirve mas un diagrama de dispersión, también llamado scatter plot. "
   ]
  },
  {
   "cell_type": "code",
   "execution_count": 63,
   "metadata": {},
   "outputs": [
    {
     "name": "stderr",
     "output_type": "stream",
     "text": [
      "c:\\Users\\Daiana\\anaconda3\\lib\\site-packages\\matplotlib\\collections.py:1003: RuntimeWarning: invalid value encountered in sqrt\n",
      "  scale = np.sqrt(self._sizes) * dpi / 72.0 * self._factor\n"
     ]
    },
    {
     "data": {
      "text/plain": [
       "<matplotlib.collections.PathCollection at 0x25fe5166580>"
      ]
     },
     "execution_count": 63,
     "metadata": {},
     "output_type": "execute_result"
    },
    {
     "data": {
      "image/png": "[encoded data removed]",
      "text/plain": [
       "<Figure size 720x504 with 1 Axes>"
      ]
     },
     "metadata": {
      "needs_background": "light"
     },
     "output_type": "display_data"
    }
   ],
   "source": [
    "fig = plt.figure(figsize=(10, 7))# tamaño de la figura\n",
    "plt.ylim(-2, max(df_temperaturas['AvgTemperature'])) # limite del eje y:  desde y hasta\n",
    "plt.xticks(rotation=45, ha='right') # giro 45 grados las etiquetas del eje x para que no se me encimen\n",
    "\n",
    "plt.scatter(df_temperaturas['Country'], #eje x\n",
    "            df_temperaturas['AvgTemperature'], #eje y \n",
    "            s = df_temperaturas['AvgTemperature']*10, # s : size\n",
    "            c =df_temperaturas['AvgTemperature'], # c : color\n",
    "            alpha = 0.7 ) # alpha : opacidad del color"
   ]
  },
  {
   "cell_type": "markdown",
   "metadata": {},
   "source": [
    "la sintaxis para agrupar por un campo un dataframe es:\n",
    "\n",
    "df.groupby( ['NombreColumnaAgrupadora'] )[ 'Metrica' ].agrupador()"
   ]
  },
  {
   "cell_type": "code",
   "execution_count": 43,
   "metadata": {},
   "outputs": [
    {
     "data": {
      "text/html": [
       "<div>\n",
       "<style scoped>\n",
       "    .dataframe tbody tr th:only-of-type {\n",
       "        vertical-align: middle;\n",
       "    }\n",
       "\n",
       "    .dataframe tbody tr th {\n",
       "        vertical-align: top;\n",
       "    }\n",
       "\n",
       "    .dataframe thead th {\n",
       "        text-align: right;\n",
       "    }\n",
       "</style>\n",
       "<table border=\"1\" class=\"dataframe\">\n",
       "  <thead>\n",
       "    <tr style=\"text-align: right;\">\n",
       "      <th></th>\n",
       "      <th>Country</th>\n",
       "      <th>Temperature</th>\n",
       "    </tr>\n",
       "  </thead>\n",
       "  <tbody>\n",
       "    <tr>\n",
       "      <th>0</th>\n",
       "      <td>Argentina</td>\n",
       "      <td>62.491706</td>\n",
       "    </tr>\n",
       "    <tr>\n",
       "      <th>1</th>\n",
       "      <td>Bahamas</td>\n",
       "      <td>76.549409</td>\n",
       "    </tr>\n",
       "    <tr>\n",
       "      <th>2</th>\n",
       "      <td>Barbados</td>\n",
       "      <td>77.023420</td>\n",
       "    </tr>\n",
       "    <tr>\n",
       "      <th>3</th>\n",
       "      <td>Belize</td>\n",
       "      <td>73.630746</td>\n",
       "    </tr>\n",
       "    <tr>\n",
       "      <th>4</th>\n",
       "      <td>Bermuda</td>\n",
       "      <td>67.034401</td>\n",
       "    </tr>\n",
       "  </tbody>\n",
       "</table>\n",
       "</div>"
      ],
      "text/plain": [
       "     Country  Temperature\n",
       "0  Argentina    62.491706\n",
       "1    Bahamas    76.549409\n",
       "2   Barbados    77.023420\n",
       "3     Belize    73.630746\n",
       "4    Bermuda    67.034401"
      ]
     },
     "execution_count": 43,
     "metadata": {},
     "output_type": "execute_result"
    }
   ],
   "source": [
    "#por ejemplo, el promedio de las temperaturas por país\n",
    "df_temp_agrup = df_temperaturas.groupby(['Country'])['AvgTemperature'].mean().reset_index(name='Temperature')\n",
    "df_temp_agrup.head()"
   ]
  },
  {
   "cell_type": "markdown",
   "metadata": {},
   "source": [
    "### Ahora si, La guía de Pandas! :)\n",
    "\n",
    "## Consigna 1:\n",
    "Crear un dataframe con la posición de un movil en determinado momento del tiempo, donde su ecuación horaria sea <br>\n",
    "$ x(t) = 6t^{2} - 6t + \\frac{10}{t}$<br>\n",
    "Crear dos columnas: con el resultado obtenido de determinar la velocidad del móvil, y su aceleración <br>\n",
    "Crear un gráfico con la velocidad en función del tiempo del movil.\n",
    "\n",
    "## Consigna 2:\n",
    "Levantar el archivo del classroom llamado serie_tiempo_temperatura.csv<br>\n",
    "Hacer un paneo general del dataset para ver el nombre de las columnas y de qué se trata la información.<br>\n",
    "Con el dataframe inicial, crear un scatter plot para ver a distribución de la temperatura en America del sur (pssss: crear otro dataframe temporal agrupando las columnas que necesite para ver esto y filtrar por el campo Country, viendo previamente qué valores únicos contiene.)<br>\n",
    "Por otro lado, y con todo lo aprendido, plotear en el mismo gráfico la temperatura máxima y mínima alcanzada cada año.<br>\n"
   ]
  }
 ],
 "metadata": {
  "kernelspec": {
   "display_name": "base",
   "language": "python",
   "name": "python3"
  },
  "language_info": {
   "codemirror_mode": {
    "name": "ipython",
    "version": 3
   },
   "file_extension": ".py",
   "mimetype": "text/x-python",
   "name": "python",
   "nbconvert_exporter": "python",
   "pygments_lexer": "ipython3",
   "version": "3.9.7"
  }
 },
 "nbformat": 4,
 "nbformat_minor": 2
}
